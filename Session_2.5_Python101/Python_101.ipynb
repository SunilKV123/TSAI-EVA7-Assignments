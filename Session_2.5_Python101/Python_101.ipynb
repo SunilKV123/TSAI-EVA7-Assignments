{
  "nbformat": 4,
  "nbformat_minor": 0,
  "metadata": {
    "colab": {
      "name": "Python 101.ipynb",
      "provenance": [],
      "collapsed_sections": [],
      "toc_visible": true
    },
    "kernelspec": {
      "name": "python3",
      "display_name": "Python 3"
    },
    "language_info": {
      "name": "python"
    }
  },
  "cells": [
    {
      "cell_type": "markdown",
      "metadata": {
        "id": "80jIOc4NbBWT"
      },
      "source": [
        "# Python 101 Session\n",
        "\n"
      ]
    },
    {
      "cell_type": "code",
      "metadata": {
        "id": "Fa_wI7r6RFIH"
      },
      "source": [
        "a = [1, 2, 3]"
      ],
      "execution_count": 9,
      "outputs": []
    },
    {
      "cell_type": "code",
      "metadata": {
        "id": "WBlACsZAgDur"
      },
      "source": [
        "a = [1, \n",
        "     2, \n",
        "     3]"
      ],
      "execution_count": 10,
      "outputs": []
    },
    {
      "cell_type": "code",
      "metadata": {
        "id": "zuS9E6VjgNiy"
      },
      "source": [
        "a = [1, # first value of the index\n",
        "     2, # first day calcution start\n",
        "     3]"
      ],
      "execution_count": 11,
      "outputs": []
    },
    {
      "cell_type": "code",
      "metadata": {
        "id": "D3DRDUzagVLs"
      },
      "source": [
        "a = [1, # first value of the index\n",
        "     2, # first day calcution start\n",
        "     3 # index for change \n",
        "     ]"
      ],
      "execution_count": 12,
      "outputs": []
    },
    {
      "cell_type": "code",
      "metadata": {
        "id": "9L4pXDV0gbx2"
      },
      "source": [
        "t = (1, # first value of the index\n",
        "     2, # first day calcution start\n",
        "     3)"
      ],
      "execution_count": 13,
      "outputs": []
    },
    {
      "cell_type": "code",
      "metadata": {
        "colab": {
          "base_uri": "https://localhost:8080/"
        },
        "id": "3hRkVvUdggV7",
        "outputId": "3ab798b0-7164-4519-9139-d674ed2e21aa"
      },
      "source": [
        "a[2], t[1]"
      ],
      "execution_count": 14,
      "outputs": [
        {
          "output_type": "execute_result",
          "data": {
            "text/plain": [
              "(3, 2)"
            ]
          },
          "metadata": {},
          "execution_count": 14
        }
      ]
    },
    {
      "cell_type": "code",
      "metadata": {
        "id": "QnPGOAhqgkPM"
      },
      "source": [
        "a[2] = \"rohan\""
      ],
      "execution_count": 15,
      "outputs": []
    },
    {
      "cell_type": "code",
      "metadata": {
        "colab": {
          "base_uri": "https://localhost:8080/",
          "height": 168
        },
        "id": "GJjW_r4IgojP",
        "outputId": "ace41585-d035-4253-a98c-3d959cc66054"
      },
      "source": [
        "t[2] = \"rohan\""
      ],
      "execution_count": 16,
      "outputs": [
        {
          "output_type": "error",
          "ename": "TypeError",
          "evalue": "ignored",
          "traceback": [
            "\u001b[0;31m---------------------------------------------------------------------------\u001b[0m",
            "\u001b[0;31mTypeError\u001b[0m                                 Traceback (most recent call last)",
            "\u001b[0;32m<ipython-input-16-8e5fe1fd2d98>\u001b[0m in \u001b[0;36m<module>\u001b[0;34m()\u001b[0m\n\u001b[0;32m----> 1\u001b[0;31m \u001b[0mt\u001b[0m\u001b[0;34m[\u001b[0m\u001b[0;36m2\u001b[0m\u001b[0;34m]\u001b[0m \u001b[0;34m=\u001b[0m \u001b[0;34m\"rohan\"\u001b[0m\u001b[0;34m\u001b[0m\u001b[0;34m\u001b[0m\u001b[0m\n\u001b[0m",
            "\u001b[0;31mTypeError\u001b[0m: 'tuple' object does not support item assignment"
          ]
        }
      ]
    },
    {
      "cell_type": "code",
      "metadata": {
        "id": "MGfVxkOogt2F"
      },
      "source": [
        " d = {\n",
        "     'key1': 'value1', # this is the first pair\n",
        "      'key2': 2, # the second pair\n",
        "      'key3': \"rohan\" # third pair\n",
        " }"
      ],
      "execution_count": 17,
      "outputs": []
    },
    {
      "cell_type": "code",
      "metadata": {
        "id": "BtUh_HDnhg4D"
      },
      "source": [
        "def my_func(a,  # this is the parameter for number of epochs\n",
        "            b,  # this is the learning rate\n",
        "            c   # this is the loss function use\n",
        "            ):\n",
        "  print(a, b, c)"
      ],
      "execution_count": 18,
      "outputs": []
    },
    {
      "cell_type": "code",
      "metadata": {
        "colab": {
          "base_uri": "https://localhost:8080/"
        },
        "id": "8DVxRwX3h6Na",
        "outputId": "2e869ae6-ea7f-4ed3-c90a-339edc4b3e27"
      },
      "source": [
        "my_func(102, 103, 104)"
      ],
      "execution_count": 19,
      "outputs": [
        {
          "output_type": "stream",
          "name": "stdout",
          "text": [
            "102 103 104\n"
          ]
        }
      ]
    },
    {
      "cell_type": "code",
      "metadata": {
        "colab": {
          "base_uri": "https://localhost:8080/"
        },
        "id": "k_dhZ1Jth9qw",
        "outputId": "cd4bf8eb-1e83-4a4f-dd90-1d848ab4a95b"
      },
      "source": [
        "my_func(102, # this is the number I saw online\n",
        "        103, # this is the best number working for me\n",
        "        104)"
      ],
      "execution_count": 20,
      "outputs": [
        {
          "output_type": "stream",
          "name": "stdout",
          "text": [
            "102 103 104\n"
          ]
        }
      ]
    },
    {
      "cell_type": "code",
      "metadata": {
        "colab": {
          "base_uri": "https://localhost:8080/"
        },
        "id": "wUkwcPMUiCzi",
        "outputId": "a6030517-6e89-4675-9ecf-cad342803834"
      },
      "source": [
        "a = 10\n",
        "b = 20\n",
        "c = 30\n",
        "\n",
        "if a > 5 and b > 10 and c > 20:\n",
        "  print(\"YES!!\")"
      ],
      "execution_count": 21,
      "outputs": [
        {
          "output_type": "stream",
          "name": "stdout",
          "text": [
            "YES!!\n"
          ]
        }
      ]
    },
    {
      "cell_type": "code",
      "metadata": {
        "colab": {
          "base_uri": "https://localhost:8080/"
        },
        "id": "7DAL5dbCiN8k",
        "outputId": "66dc7407-d941-48f7-e2d0-79bb685a7ac4"
      },
      "source": [
        "a = 10\n",
        "b = 20\n",
        "c = 30\n",
        "\n",
        "if a > 5 \\\n",
        "    and b > 10 \\\n",
        "    and c > 20:\n",
        "  print(\"YES!!\")"
      ],
      "execution_count": 22,
      "outputs": [
        {
          "output_type": "stream",
          "name": "stdout",
          "text": [
            "YES!!\n"
          ]
        }
      ]
    },
    {
      "cell_type": "code",
      "metadata": {
        "colab": {
          "base_uri": "https://localhost:8080/",
          "height": 36
        },
        "id": "W1zL51s0iTJV",
        "outputId": "bc616fa8-b5a0-43dd-a691-2f7f9308414e"
      },
      "source": [
        "\"\"\"\n",
        "This is a\n",
        "multi line string\n",
        "that can be written\n",
        "in multiple \n",
        "lines\n",
        "\"\"\""
      ],
      "execution_count": 23,
      "outputs": [
        {
          "output_type": "execute_result",
          "data": {
            "application/vnd.google.colaboratory.intrinsic+json": {
              "type": "string"
            },
            "text/plain": [
              "'\\nThis is a\\nmulti line string\\nthat can be written\\nin multiple \\nlines\\n'"
            ]
          },
          "metadata": {},
          "execution_count": 23
        }
      ]
    },
    {
      "cell_type": "code",
      "metadata": {
        "colab": {
          "base_uri": "https://localhost:8080/",
          "height": 36
        },
        "id": "fBtYm6YNidLP",
        "outputId": "6929ee63-308a-4477-eab8-e2fcf10196eb"
      },
      "source": [
        "a = \"\"\"\n",
        "This is a\n",
        "multi line string\n",
        "that can be written\n",
        "in multiple \n",
        "lines\n",
        "\"\"\"\n",
        "a"
      ],
      "execution_count": 24,
      "outputs": [
        {
          "output_type": "execute_result",
          "data": {
            "application/vnd.google.colaboratory.intrinsic+json": {
              "type": "string"
            },
            "text/plain": [
              "'\\nThis is a\\nmulti line string\\nthat can be written\\nin multiple \\nlines\\n'"
            ]
          },
          "metadata": {},
          "execution_count": 24
        }
      ]
    },
    {
      "cell_type": "code",
      "metadata": {
        "id": "xnbZxhbBiq33"
      },
      "source": [
        "a = '''\n",
        "This is a\n",
        "multi line string\n",
        "that can be written\n",
        "in multiple \n",
        "lines\n",
        "'''"
      ],
      "execution_count": 25,
      "outputs": []
    },
    {
      "cell_type": "code",
      "metadata": {
        "colab": {
          "base_uri": "https://localhost:8080/"
        },
        "id": "PxN2NUhxiy_n",
        "outputId": "63f59d63-2cd7-42c0-b16c-276a2d225797"
      },
      "source": [
        "def my_func():\n",
        "  a = ''' a multi-line string\n",
        "          that is written in \n",
        "          multiple lines\n",
        "      '''\n",
        "  return a \n",
        "print(my_func())"
      ],
      "execution_count": 26,
      "outputs": [
        {
          "output_type": "stream",
          "name": "stdout",
          "text": [
            " a multi-line string\n",
            "          that is written in \n",
            "          multiple lines\n",
            "      \n"
          ]
        }
      ]
    },
    {
      "cell_type": "code",
      "metadata": {
        "colab": {
          "base_uri": "https://localhost:8080/",
          "height": 124
        },
        "id": "d0AwAa9qi_GZ",
        "outputId": "029d70e1-f2ee-43e3-a8e5-80b262aabc01"
      },
      "source": [
        "\"\"\"\n",
        "This is a\n",
        "multi line string\n",
        "that can be written\n",
        "in multiple \n",
        "linesThis is a\n",
        "multi line string\n",
        "that can be written\n",
        "in multiple \n",
        "linesThis is a\n",
        "multi line string\n",
        "that can be written\n",
        "in multiple \n",
        "linesThis is a\n",
        "multi line string\n",
        "that can be written\n",
        "in multiple \n",
        "linesThis is a\n",
        "multi line string\n",
        "that can be written\n",
        "in multiple \n",
        "linesThis is a\n",
        "multi line string\n",
        "that can be written\n",
        "in multiple \n",
        "linesThis is a\n",
        "multi line string\n",
        "that can be written\n",
        "in multiple \n",
        "linesThis is a\n",
        "multi line string\n",
        "that can be written\n",
        "in multiple \n",
        "linesThis is a\n",
        "multi line string\n",
        "that can be written\n",
        "in multiple \n",
        "linesThis is a\n",
        "multi line string\n",
        "that can be written\n",
        "in multiple \n",
        "linesThis is a\n",
        "multi line string\n",
        "that can be written\n",
        "in multiple \n",
        "linesThis is a\n",
        "multi line string\n",
        "that can be written\n",
        "in multiple \n",
        "linesThis is a\n",
        "multi line string\n",
        "that can be written\n",
        "in multiple \n",
        "lines\n",
        "\"\"\""
      ],
      "execution_count": 27,
      "outputs": [
        {
          "output_type": "execute_result",
          "data": {
            "application/vnd.google.colaboratory.intrinsic+json": {
              "type": "string"
            },
            "text/plain": [
              "'\\nThis is a\\nmulti line string\\nthat can be written\\nin multiple \\nlinesThis is a\\nmulti line string\\nthat can be written\\nin multiple \\nlinesThis is a\\nmulti line string\\nthat can be written\\nin multiple \\nlinesThis is a\\nmulti line string\\nthat can be written\\nin multiple \\nlinesThis is a\\nmulti line string\\nthat can be written\\nin multiple \\nlinesThis is a\\nmulti line string\\nthat can be written\\nin multiple \\nlinesThis is a\\nmulti line string\\nthat can be written\\nin multiple \\nlinesThis is a\\nmulti line string\\nthat can be written\\nin multiple \\nlinesThis is a\\nmulti line string\\nthat can be written\\nin multiple \\nlinesThis is a\\nmulti line string\\nthat can be written\\nin multiple \\nlinesThis is a\\nmulti line string\\nthat can be written\\nin multiple \\nlinesThis is a\\nmulti line string\\nthat can be written\\nin multiple \\nlinesThis is a\\nmulti line string\\nthat can be written\\nin multiple \\nlines\\n'"
            ]
          },
          "metadata": {},
          "execution_count": 27
        }
      ]
    },
    {
      "cell_type": "code",
      "metadata": {
        "id": "Y9OUTz11jKSM"
      },
      "source": [
        "# this is me trying \n",
        "# to make a multi line\n",
        "# comment"
      ],
      "execution_count": 28,
      "outputs": []
    },
    {
      "cell_type": "code",
      "metadata": {
        "colab": {
          "base_uri": "https://localhost:8080/"
        },
        "id": "H5ZQapemjWQE",
        "outputId": "cce9c34c-1f43-4990-e0af-697acfea4537"
      },
      "source": [
        "a = 2\n",
        "if a < 3:\n",
        "  print('a < 3')\n",
        "else: \n",
        "  print('a > 3')"
      ],
      "execution_count": 29,
      "outputs": [
        {
          "output_type": "stream",
          "name": "stdout",
          "text": [
            "a < 3\n"
          ]
        }
      ]
    },
    {
      "cell_type": "code",
      "metadata": {
        "colab": {
          "base_uri": "https://localhost:8080/"
        },
        "id": "c1uxK04IjeJ1",
        "outputId": "bc61f1bb-b957-4fd0-850c-ff48132df897"
      },
      "source": [
        "a = 15\n",
        "if a < 5:\n",
        "  print('a < 5')\n",
        "else: \n",
        "  if a < 10:\n",
        "    print(\"5 <= a <= 10\")\n",
        "  else:\n",
        "    print('a > 10')"
      ],
      "execution_count": 30,
      "outputs": [
        {
          "output_type": "stream",
          "name": "stdout",
          "text": [
            "a > 10\n"
          ]
        }
      ]
    },
    {
      "cell_type": "code",
      "metadata": {
        "colab": {
          "base_uri": "https://localhost:8080/"
        },
        "id": "4rkyE5fpjucQ",
        "outputId": "9e97eca8-bb79-42fb-e079-a90f946540a9"
      },
      "source": [
        "a = 15\n",
        "if a < 5:\n",
        "  print('a < 5')\n",
        "elif a < 10:\n",
        "  print(\"5 <= a <= 10\")\n",
        "else:\n",
        "  print('a > 10')"
      ],
      "execution_count": 31,
      "outputs": [
        {
          "output_type": "stream",
          "name": "stdout",
          "text": [
            "a > 10\n"
          ]
        }
      ]
    },
    {
      "cell_type": "code",
      "metadata": {
        "id": "j2-1ENrqjz00"
      },
      "source": [
        "import sys\n",
        "sys.version"
      ],
      "execution_count": null,
      "outputs": []
    },
    {
      "cell_type": "code",
      "metadata": {
        "colab": {
          "base_uri": "https://localhost:8080/"
        },
        "id": "J8ukXzzHkbkb",
        "outputId": "f1e056ac-5fc0-41c8-bad3-4e73e0e20574"
      },
      "source": [
        "a = 5\n",
        "res = 'a < 10' if a < 10 else 'a > 10'\n",
        "print(res)"
      ],
      "execution_count": 32,
      "outputs": [
        {
          "output_type": "stream",
          "name": "stdout",
          "text": [
            "a < 10\n"
          ]
        }
      ]
    },
    {
      "cell_type": "code",
      "metadata": {
        "id": "ZM-q1hwSknWN"
      },
      "source": [
        "def left():\n",
        "   return \"LEFT\"\n",
        "\n",
        "def right():\n",
        "   return 'RIGHT'"
      ],
      "execution_count": 33,
      "outputs": []
    },
    {
      "cell_type": "code",
      "metadata": {
        "colab": {
          "base_uri": "https://localhost:8080/"
        },
        "id": "v2nWDkpIkwJU",
        "outputId": "8d2f8c5e-6553-4100-b9b9-4d31e409e44d"
      },
      "source": [
        "a = 5\n",
        "res = left() if a < 10 else right()\n",
        "\n",
        "print(res)"
      ],
      "execution_count": 34,
      "outputs": [
        {
          "output_type": "stream",
          "name": "stdout",
          "text": [
            "LEFT\n"
          ]
        }
      ]
    },
    {
      "cell_type": "code",
      "metadata": {
        "colab": {
          "base_uri": "https://localhost:8080/"
        },
        "id": "nmxUnNlyk1Xc",
        "outputId": "efb5733f-7132-4536-87e5-90ffef06bca6"
      },
      "source": [
        "def center():\n",
        "  pass\n",
        "print(center())"
      ],
      "execution_count": 35,
      "outputs": [
        {
          "output_type": "stream",
          "name": "stdout",
          "text": [
            "None\n"
          ]
        }
      ]
    },
    {
      "cell_type": "code",
      "metadata": {
        "colab": {
          "base_uri": "https://localhost:8080/"
        },
        "id": "kr-VNGkOk-HK",
        "outputId": "58ca2b69-5597-4ba7-fe2f-127e9549154e"
      },
      "source": [
        "l = [1, 2, 3]\n",
        "len(l)"
      ],
      "execution_count": 38,
      "outputs": [
        {
          "output_type": "execute_result",
          "data": {
            "text/plain": [
              "3"
            ]
          },
          "metadata": {},
          "execution_count": 38
        }
      ]
    },
    {
      "cell_type": "code",
      "metadata": {
        "colab": {
          "base_uri": "https://localhost:8080/"
        },
        "id": "Srtc70MylLL_",
        "outputId": "9d477be7-b6b4-495d-fe27-e8826fc8bd03"
      },
      "source": [
        "from math import sqrt\n",
        "\n",
        "sqrt(5.6)"
      ],
      "execution_count": 36,
      "outputs": [
        {
          "output_type": "execute_result",
          "data": {
            "text/plain": [
              "2.3664319132398464"
            ]
          },
          "metadata": {},
          "execution_count": 36
        }
      ]
    },
    {
      "cell_type": "code",
      "metadata": {
        "colab": {
          "base_uri": "https://localhost:8080/"
        },
        "id": "y1wLsRuHlOsm",
        "outputId": "a1c3350f-1a12-4967-a60d-4f88ab68fbd9"
      },
      "source": [
        "import math\n",
        "math.sqrt(4)"
      ],
      "execution_count": 37,
      "outputs": [
        {
          "output_type": "execute_result",
          "data": {
            "text/plain": [
              "2.0"
            ]
          },
          "metadata": {},
          "execution_count": 37
        }
      ]
    },
    {
      "cell_type": "code",
      "metadata": {
        "id": "zm8xTynjlSgK"
      },
      "source": [
        "def func_1():\n",
        "  print(\"some printing\")"
      ],
      "execution_count": 39,
      "outputs": []
    },
    {
      "cell_type": "code",
      "metadata": {
        "colab": {
          "base_uri": "https://localhost:8080/"
        },
        "id": "IpDkRwDglVdM",
        "outputId": "3eca5197-576f-4f67-898a-bb1e836897cc"
      },
      "source": [
        "func_1"
      ],
      "execution_count": 40,
      "outputs": [
        {
          "output_type": "execute_result",
          "data": {
            "text/plain": [
              "<function __main__.func_1>"
            ]
          },
          "metadata": {},
          "execution_count": 40
        }
      ]
    },
    {
      "cell_type": "code",
      "metadata": {
        "colab": {
          "base_uri": "https://localhost:8080/"
        },
        "id": "tILB_2OplWhQ",
        "outputId": "2d4160f9-aeb2-4b30-f416-1787ca2dee22"
      },
      "source": [
        "func_1()"
      ],
      "execution_count": 41,
      "outputs": [
        {
          "output_type": "stream",
          "name": "stdout",
          "text": [
            "some printing\n"
          ]
        }
      ]
    },
    {
      "cell_type": "code",
      "metadata": {
        "id": "trVpNu24lXu7"
      },
      "source": [
        "def my_func(a, b):\n",
        "  print(a, b)"
      ],
      "execution_count": 42,
      "outputs": []
    },
    {
      "cell_type": "code",
      "metadata": {
        "colab": {
          "base_uri": "https://localhost:8080/"
        },
        "id": "kCGi4_0ElhzE",
        "outputId": "12d3054b-441e-4819-8eac-58a6a53f7d04"
      },
      "source": [
        "my_func(1, 2)"
      ],
      "execution_count": 43,
      "outputs": [
        {
          "output_type": "stream",
          "name": "stdout",
          "text": [
            "1 2\n"
          ]
        }
      ]
    },
    {
      "cell_type": "code",
      "metadata": {
        "colab": {
          "base_uri": "https://localhost:8080/"
        },
        "id": "An1G8RslljE6",
        "outputId": "263e858c-8dcb-4873-c28c-4995ecdd7a28"
      },
      "source": [
        "def my_func(a, b = 5):\n",
        "  print(a, b)\n",
        "\n",
        "my_func(1)"
      ],
      "execution_count": 44,
      "outputs": [
        {
          "output_type": "stream",
          "name": "stdout",
          "text": [
            "1 5\n"
          ]
        }
      ]
    },
    {
      "cell_type": "code",
      "metadata": {
        "colab": {
          "base_uri": "https://localhost:8080/"
        },
        "id": "WDNGfFiUlmLx",
        "outputId": "e4eeefce-ab5b-4b67-9a21-f071088a8330"
      },
      "source": [
        "def my_func(a, b):\n",
        "  return a * b\n",
        "\n",
        "my_func(3, 4)"
      ],
      "execution_count": 45,
      "outputs": [
        {
          "output_type": "execute_result",
          "data": {
            "text/plain": [
              "12"
            ]
          },
          "metadata": {},
          "execution_count": 45
        }
      ]
    },
    {
      "cell_type": "code",
      "metadata": {
        "colab": {
          "base_uri": "https://localhost:8080/",
          "height": 36
        },
        "id": "NQu0F6GflqTm",
        "outputId": "fd5b6717-1a60-4919-aa3d-3728da919c44"
      },
      "source": [
        "my_func('rohan', 4)"
      ],
      "execution_count": 46,
      "outputs": [
        {
          "output_type": "execute_result",
          "data": {
            "application/vnd.google.colaboratory.intrinsic+json": {
              "type": "string"
            },
            "text/plain": [
              "'rohanrohanrohanrohan'"
            ]
          },
          "metadata": {},
          "execution_count": 46
        }
      ]
    },
    {
      "cell_type": "code",
      "metadata": {
        "colab": {
          "base_uri": "https://localhost:8080/",
          "height": 275
        },
        "id": "H1fUropflsAj",
        "outputId": "2eff29d7-8221-42fd-9fbf-997984aac808"
      },
      "source": [
        "my_func('rohan', \"tsai\")"
      ],
      "execution_count": 47,
      "outputs": [
        {
          "output_type": "error",
          "ename": "TypeError",
          "evalue": "ignored",
          "traceback": [
            "\u001b[0;31m---------------------------------------------------------------------------\u001b[0m",
            "\u001b[0;31mTypeError\u001b[0m                                 Traceback (most recent call last)",
            "\u001b[0;32m<ipython-input-47-e429ec35db76>\u001b[0m in \u001b[0;36m<module>\u001b[0;34m()\u001b[0m\n\u001b[0;32m----> 1\u001b[0;31m \u001b[0mmy_func\u001b[0m\u001b[0;34m(\u001b[0m\u001b[0;34m'rohan'\u001b[0m\u001b[0;34m,\u001b[0m \u001b[0;34m\"tsai\"\u001b[0m\u001b[0;34m)\u001b[0m\u001b[0;34m\u001b[0m\u001b[0;34m\u001b[0m\u001b[0m\n\u001b[0m",
            "\u001b[0;32m<ipython-input-45-adcd066d7155>\u001b[0m in \u001b[0;36mmy_func\u001b[0;34m(a, b)\u001b[0m\n\u001b[1;32m      1\u001b[0m \u001b[0;32mdef\u001b[0m \u001b[0mmy_func\u001b[0m\u001b[0;34m(\u001b[0m\u001b[0ma\u001b[0m\u001b[0;34m,\u001b[0m \u001b[0mb\u001b[0m\u001b[0;34m)\u001b[0m\u001b[0;34m:\u001b[0m\u001b[0;34m\u001b[0m\u001b[0;34m\u001b[0m\u001b[0m\n\u001b[0;32m----> 2\u001b[0;31m   \u001b[0;32mreturn\u001b[0m \u001b[0ma\u001b[0m \u001b[0;34m*\u001b[0m \u001b[0mb\u001b[0m\u001b[0;34m\u001b[0m\u001b[0;34m\u001b[0m\u001b[0m\n\u001b[0m\u001b[1;32m      3\u001b[0m \u001b[0;34m\u001b[0m\u001b[0m\n\u001b[1;32m      4\u001b[0m \u001b[0mmy_func\u001b[0m\u001b[0;34m(\u001b[0m\u001b[0;36m3\u001b[0m\u001b[0;34m,\u001b[0m \u001b[0;36m4\u001b[0m\u001b[0;34m)\u001b[0m\u001b[0;34m\u001b[0m\u001b[0;34m\u001b[0m\u001b[0m\n",
            "\u001b[0;31mTypeError\u001b[0m: can't multiply sequence by non-int of type 'str'"
          ]
        }
      ]
    },
    {
      "cell_type": "code",
      "metadata": {
        "id": "PB-U3zlclxY5"
      },
      "source": [
        "def my_func(a: int, b: int):\n",
        "  return a * b"
      ],
      "execution_count": 48,
      "outputs": []
    },
    {
      "cell_type": "code",
      "metadata": {
        "colab": {
          "base_uri": "https://localhost:8080/",
          "height": 36
        },
        "id": "AwzYtm12l_f8",
        "outputId": "7bb74ac2-b405-41cf-a1ff-4e7466f33724"
      },
      "source": [
        "my_func('a', 5)"
      ],
      "execution_count": 49,
      "outputs": [
        {
          "output_type": "execute_result",
          "data": {
            "application/vnd.google.colaboratory.intrinsic+json": {
              "type": "string"
            },
            "text/plain": [
              "'aaaaa'"
            ]
          },
          "metadata": {},
          "execution_count": 49
        }
      ]
    },
    {
      "cell_type": "code",
      "metadata": {
        "colab": {
          "base_uri": "https://localhost:8080/"
        },
        "id": "Z26BBWpSmIlf",
        "outputId": "bfc1147f-7a93-466b-e6da-640fc0bf2afc"
      },
      "source": [
        "help(int)"
      ],
      "execution_count": 50,
      "outputs": [
        {
          "output_type": "stream",
          "name": "stdout",
          "text": [
            "Help on class int in module builtins:\n",
            "\n",
            "class int(object)\n",
            " |  int([x]) -> integer\n",
            " |  int(x, base=10) -> integer\n",
            " |  \n",
            " |  Convert a number or string to an integer, or return 0 if no arguments\n",
            " |  are given.  If x is a number, return x.__int__().  For floating point\n",
            " |  numbers, this truncates towards zero.\n",
            " |  \n",
            " |  If x is not a number or if base is given, then x must be a string,\n",
            " |  bytes, or bytearray instance representing an integer literal in the\n",
            " |  given base.  The literal can be preceded by '+' or '-' and be surrounded\n",
            " |  by whitespace.  The base defaults to 10.  Valid bases are 0 and 2-36.\n",
            " |  Base 0 means to interpret the base from the string as an integer literal.\n",
            " |  >>> int('0b100', base=0)\n",
            " |  4\n",
            " |  \n",
            " |  Methods defined here:\n",
            " |  \n",
            " |  __abs__(self, /)\n",
            " |      abs(self)\n",
            " |  \n",
            " |  __add__(self, value, /)\n",
            " |      Return self+value.\n",
            " |  \n",
            " |  __and__(self, value, /)\n",
            " |      Return self&value.\n",
            " |  \n",
            " |  __bool__(self, /)\n",
            " |      self != 0\n",
            " |  \n",
            " |  __ceil__(...)\n",
            " |      Ceiling of an Integral returns itself.\n",
            " |  \n",
            " |  __divmod__(self, value, /)\n",
            " |      Return divmod(self, value).\n",
            " |  \n",
            " |  __eq__(self, value, /)\n",
            " |      Return self==value.\n",
            " |  \n",
            " |  __float__(self, /)\n",
            " |      float(self)\n",
            " |  \n",
            " |  __floor__(...)\n",
            " |      Flooring an Integral returns itself.\n",
            " |  \n",
            " |  __floordiv__(self, value, /)\n",
            " |      Return self//value.\n",
            " |  \n",
            " |  __format__(self, format_spec, /)\n",
            " |      Default object formatter.\n",
            " |  \n",
            " |  __ge__(self, value, /)\n",
            " |      Return self>=value.\n",
            " |  \n",
            " |  __getattribute__(self, name, /)\n",
            " |      Return getattr(self, name).\n",
            " |  \n",
            " |  __getnewargs__(self, /)\n",
            " |  \n",
            " |  __gt__(self, value, /)\n",
            " |      Return self>value.\n",
            " |  \n",
            " |  __hash__(self, /)\n",
            " |      Return hash(self).\n",
            " |  \n",
            " |  __index__(self, /)\n",
            " |      Return self converted to an integer, if self is suitable for use as an index into a list.\n",
            " |  \n",
            " |  __int__(self, /)\n",
            " |      int(self)\n",
            " |  \n",
            " |  __invert__(self, /)\n",
            " |      ~self\n",
            " |  \n",
            " |  __le__(self, value, /)\n",
            " |      Return self<=value.\n",
            " |  \n",
            " |  __lshift__(self, value, /)\n",
            " |      Return self<<value.\n",
            " |  \n",
            " |  __lt__(self, value, /)\n",
            " |      Return self<value.\n",
            " |  \n",
            " |  __mod__(self, value, /)\n",
            " |      Return self%value.\n",
            " |  \n",
            " |  __mul__(self, value, /)\n",
            " |      Return self*value.\n",
            " |  \n",
            " |  __ne__(self, value, /)\n",
            " |      Return self!=value.\n",
            " |  \n",
            " |  __neg__(self, /)\n",
            " |      -self\n",
            " |  \n",
            " |  __or__(self, value, /)\n",
            " |      Return self|value.\n",
            " |  \n",
            " |  __pos__(self, /)\n",
            " |      +self\n",
            " |  \n",
            " |  __pow__(self, value, mod=None, /)\n",
            " |      Return pow(self, value, mod).\n",
            " |  \n",
            " |  __radd__(self, value, /)\n",
            " |      Return value+self.\n",
            " |  \n",
            " |  __rand__(self, value, /)\n",
            " |      Return value&self.\n",
            " |  \n",
            " |  __rdivmod__(self, value, /)\n",
            " |      Return divmod(value, self).\n",
            " |  \n",
            " |  __repr__(self, /)\n",
            " |      Return repr(self).\n",
            " |  \n",
            " |  __rfloordiv__(self, value, /)\n",
            " |      Return value//self.\n",
            " |  \n",
            " |  __rlshift__(self, value, /)\n",
            " |      Return value<<self.\n",
            " |  \n",
            " |  __rmod__(self, value, /)\n",
            " |      Return value%self.\n",
            " |  \n",
            " |  __rmul__(self, value, /)\n",
            " |      Return value*self.\n",
            " |  \n",
            " |  __ror__(self, value, /)\n",
            " |      Return value|self.\n",
            " |  \n",
            " |  __round__(...)\n",
            " |      Rounding an Integral returns itself.\n",
            " |      Rounding with an ndigits argument also returns an integer.\n",
            " |  \n",
            " |  __rpow__(self, value, mod=None, /)\n",
            " |      Return pow(value, self, mod).\n",
            " |  \n",
            " |  __rrshift__(self, value, /)\n",
            " |      Return value>>self.\n",
            " |  \n",
            " |  __rshift__(self, value, /)\n",
            " |      Return self>>value.\n",
            " |  \n",
            " |  __rsub__(self, value, /)\n",
            " |      Return value-self.\n",
            " |  \n",
            " |  __rtruediv__(self, value, /)\n",
            " |      Return value/self.\n",
            " |  \n",
            " |  __rxor__(self, value, /)\n",
            " |      Return value^self.\n",
            " |  \n",
            " |  __sizeof__(self, /)\n",
            " |      Returns size in memory, in bytes.\n",
            " |  \n",
            " |  __str__(self, /)\n",
            " |      Return str(self).\n",
            " |  \n",
            " |  __sub__(self, value, /)\n",
            " |      Return self-value.\n",
            " |  \n",
            " |  __truediv__(self, value, /)\n",
            " |      Return self/value.\n",
            " |  \n",
            " |  __trunc__(...)\n",
            " |      Truncating an Integral returns itself.\n",
            " |  \n",
            " |  __xor__(self, value, /)\n",
            " |      Return self^value.\n",
            " |  \n",
            " |  bit_length(self, /)\n",
            " |      Number of bits necessary to represent self in binary.\n",
            " |      \n",
            " |      >>> bin(37)\n",
            " |      '0b100101'\n",
            " |      >>> (37).bit_length()\n",
            " |      6\n",
            " |  \n",
            " |  conjugate(...)\n",
            " |      Returns self, the complex conjugate of any int.\n",
            " |  \n",
            " |  to_bytes(self, /, length, byteorder, *, signed=False)\n",
            " |      Return an array of bytes representing an integer.\n",
            " |      \n",
            " |      length\n",
            " |        Length of bytes object to use.  An OverflowError is raised if the\n",
            " |        integer is not representable with the given number of bytes.\n",
            " |      byteorder\n",
            " |        The byte order used to represent the integer.  If byteorder is 'big',\n",
            " |        the most significant byte is at the beginning of the byte array.  If\n",
            " |        byteorder is 'little', the most significant byte is at the end of the\n",
            " |        byte array.  To request the native byte order of the host system, use\n",
            " |        `sys.byteorder' as the byte order value.\n",
            " |      signed\n",
            " |        Determines whether two's complement is used to represent the integer.\n",
            " |        If signed is False and a negative integer is given, an OverflowError\n",
            " |        is raised.\n",
            " |  \n",
            " |  ----------------------------------------------------------------------\n",
            " |  Class methods defined here:\n",
            " |  \n",
            " |  from_bytes(bytes, byteorder, *, signed=False) from builtins.type\n",
            " |      Return the integer represented by the given array of bytes.\n",
            " |      \n",
            " |      bytes\n",
            " |        Holds the array of bytes to convert.  The argument must either\n",
            " |        support the buffer protocol or be an iterable object producing bytes.\n",
            " |        Bytes and bytearray are examples of built-in objects that support the\n",
            " |        buffer protocol.\n",
            " |      byteorder\n",
            " |        The byte order used to represent the integer.  If byteorder is 'big',\n",
            " |        the most significant byte is at the beginning of the byte array.  If\n",
            " |        byteorder is 'little', the most significant byte is at the end of the\n",
            " |        byte array.  To request the native byte order of the host system, use\n",
            " |        `sys.byteorder' as the byte order value.\n",
            " |      signed\n",
            " |        Indicates whether two's complement is used to represent the integer.\n",
            " |  \n",
            " |  ----------------------------------------------------------------------\n",
            " |  Static methods defined here:\n",
            " |  \n",
            " |  __new__(*args, **kwargs) from builtins.type\n",
            " |      Create and return a new object.  See help(type) for accurate signature.\n",
            " |  \n",
            " |  ----------------------------------------------------------------------\n",
            " |  Data descriptors defined here:\n",
            " |  \n",
            " |  denominator\n",
            " |      the denominator of a rational number in lowest terms\n",
            " |  \n",
            " |  imag\n",
            " |      the imaginary part of a complex number\n",
            " |  \n",
            " |  numerator\n",
            " |      the numerator of a rational number in lowest terms\n",
            " |  \n",
            " |  real\n",
            " |      the real part of a complex number\n",
            "\n"
          ]
        }
      ]
    },
    {
      "cell_type": "code",
      "metadata": {
        "colab": {
          "base_uri": "https://localhost:8080/"
        },
        "id": "h2aJS2n0ma2O",
        "outputId": "a6cf57d1-bb9d-4fb0-9456-634651861deb"
      },
      "source": [
        " 4 + 5"
      ],
      "execution_count": 51,
      "outputs": [
        {
          "output_type": "execute_result",
          "data": {
            "text/plain": [
              "9"
            ]
          },
          "metadata": {},
          "execution_count": 51
        }
      ]
    },
    {
      "cell_type": "code",
      "metadata": {
        "colab": {
          "base_uri": "https://localhost:8080/"
        },
        "id": "ItxMYM-3miyG",
        "outputId": "41faf20c-880f-4540-cea8-fe687aa71edf"
      },
      "source": [
        "a = int(4)\n",
        "a.__add__(5)"
      ],
      "execution_count": 52,
      "outputs": [
        {
          "output_type": "execute_result",
          "data": {
            "text/plain": [
              "9"
            ]
          },
          "metadata": {},
          "execution_count": 52
        }
      ]
    },
    {
      "cell_type": "code",
      "metadata": {
        "colab": {
          "base_uri": "https://localhost:8080/"
        },
        "id": "Hw6mPD4LmlGs",
        "outputId": "57a1e576-d6d5-43e4-9454-ceea49300445"
      },
      "source": [
        "type(my_func)"
      ],
      "execution_count": 53,
      "outputs": [
        {
          "output_type": "execute_result",
          "data": {
            "text/plain": [
              "function"
            ]
          },
          "metadata": {},
          "execution_count": 53
        }
      ]
    },
    {
      "cell_type": "code",
      "metadata": {
        "colab": {
          "base_uri": "https://localhost:8080/"
        },
        "id": "T6YG-FZAnN3Y",
        "outputId": "0e8169ed-4ec7-41e6-dbc7-afda411c3279"
      },
      "source": [
        "type(dict)"
      ],
      "execution_count": 54,
      "outputs": [
        {
          "output_type": "execute_result",
          "data": {
            "text/plain": [
              "type"
            ]
          },
          "metadata": {},
          "execution_count": 54
        }
      ]
    },
    {
      "cell_type": "code",
      "metadata": {
        "colab": {
          "base_uri": "https://localhost:8080/"
        },
        "id": "YTRxuGcnnXWx",
        "outputId": "7972a8b9-1b65-4368-f348-93ce732aa4d6"
      },
      "source": [
        "a = int(9)\n",
        "type(a)"
      ],
      "execution_count": 55,
      "outputs": [
        {
          "output_type": "execute_result",
          "data": {
            "text/plain": [
              "int"
            ]
          },
          "metadata": {},
          "execution_count": 55
        }
      ]
    },
    {
      "cell_type": "code",
      "metadata": {
        "colab": {
          "base_uri": "https://localhost:8080/"
        },
        "id": "F727b7saniRO",
        "outputId": "81c22829-95e0-425d-b9ba-1ef2f3d28500"
      },
      "source": [
        "def my_func(a: int, b: int):\n",
        "  return a * b\n",
        "\n",
        "my_func([1, 2, 3], 5)"
      ],
      "execution_count": 56,
      "outputs": [
        {
          "output_type": "execute_result",
          "data": {
            "text/plain": [
              "[1, 2, 3, 1, 2, 3, 1, 2, 3, 1, 2, 3, 1, 2, 3]"
            ]
          },
          "metadata": {},
          "execution_count": 56
        }
      ]
    },
    {
      "cell_type": "code",
      "metadata": {
        "id": "Ot6dveX7nrNg"
      },
      "source": [
        "def fn_1():\n",
        "  fn_2()\n",
        "\n",
        "def fn_2():\n",
        "  pass\n",
        "\n",
        "fn_1()"
      ],
      "execution_count": 57,
      "outputs": []
    },
    {
      "cell_type": "code",
      "metadata": {
        "colab": {
          "base_uri": "https://localhost:8080/",
          "height": 204
        },
        "id": "lzL-NgsXnzdb",
        "outputId": "76bd1022-a362-4de6-f64d-cc33935d45b8"
      },
      "source": [
        "a = 10 + cccc\n",
        "\n",
        "cccc = 10"
      ],
      "execution_count": 58,
      "outputs": [
        {
          "output_type": "error",
          "ename": "NameError",
          "evalue": "ignored",
          "traceback": [
            "\u001b[0;31m---------------------------------------------------------------------------\u001b[0m",
            "\u001b[0;31mNameError\u001b[0m                                 Traceback (most recent call last)",
            "\u001b[0;32m<ipython-input-58-42fbf37815da>\u001b[0m in \u001b[0;36m<module>\u001b[0;34m()\u001b[0m\n\u001b[0;32m----> 1\u001b[0;31m \u001b[0ma\u001b[0m \u001b[0;34m=\u001b[0m \u001b[0;36m10\u001b[0m \u001b[0;34m+\u001b[0m \u001b[0mcccc\u001b[0m\u001b[0;34m\u001b[0m\u001b[0;34m\u001b[0m\u001b[0m\n\u001b[0m\u001b[1;32m      2\u001b[0m \u001b[0;34m\u001b[0m\u001b[0m\n\u001b[1;32m      3\u001b[0m \u001b[0mcccc\u001b[0m \u001b[0;34m=\u001b[0m \u001b[0;36m10\u001b[0m\u001b[0;34m\u001b[0m\u001b[0;34m\u001b[0m\u001b[0m\n",
            "\u001b[0;31mNameError\u001b[0m: name 'cccc' is not defined"
          ]
        }
      ]
    },
    {
      "cell_type": "code",
      "metadata": {
        "colab": {
          "base_uri": "https://localhost:8080/",
          "height": 364
        },
        "id": "e7_ZSnyNoFF0",
        "outputId": "768b7ba6-a7e2-4bc4-f192-761551318d65"
      },
      "source": [
        "def fn_3():\n",
        "  fn_4()\n",
        "\n",
        "fn_3()\n",
        "\n",
        "def fn_4():\n",
        "  pass\n",
        "\n"
      ],
      "execution_count": 59,
      "outputs": [
        {
          "output_type": "error",
          "ename": "NameError",
          "evalue": "ignored",
          "traceback": [
            "\u001b[0;31m---------------------------------------------------------------------------\u001b[0m",
            "\u001b[0;31mNameError\u001b[0m                                 Traceback (most recent call last)",
            "\u001b[0;32m<ipython-input-59-f9f374347a4f>\u001b[0m in \u001b[0;36m<module>\u001b[0;34m()\u001b[0m\n\u001b[1;32m      2\u001b[0m   \u001b[0mfn_4\u001b[0m\u001b[0;34m(\u001b[0m\u001b[0;34m)\u001b[0m\u001b[0;34m\u001b[0m\u001b[0;34m\u001b[0m\u001b[0m\n\u001b[1;32m      3\u001b[0m \u001b[0;34m\u001b[0m\u001b[0m\n\u001b[0;32m----> 4\u001b[0;31m \u001b[0mfn_3\u001b[0m\u001b[0;34m(\u001b[0m\u001b[0;34m)\u001b[0m\u001b[0;34m\u001b[0m\u001b[0;34m\u001b[0m\u001b[0m\n\u001b[0m\u001b[1;32m      5\u001b[0m \u001b[0;34m\u001b[0m\u001b[0m\n\u001b[1;32m      6\u001b[0m \u001b[0;32mdef\u001b[0m \u001b[0mfn_4\u001b[0m\u001b[0;34m(\u001b[0m\u001b[0;34m)\u001b[0m\u001b[0;34m:\u001b[0m\u001b[0;34m\u001b[0m\u001b[0;34m\u001b[0m\u001b[0m\n",
            "\u001b[0;32m<ipython-input-59-f9f374347a4f>\u001b[0m in \u001b[0;36mfn_3\u001b[0;34m()\u001b[0m\n\u001b[1;32m      1\u001b[0m \u001b[0;32mdef\u001b[0m \u001b[0mfn_3\u001b[0m\u001b[0;34m(\u001b[0m\u001b[0;34m)\u001b[0m\u001b[0;34m:\u001b[0m\u001b[0;34m\u001b[0m\u001b[0;34m\u001b[0m\u001b[0m\n\u001b[0;32m----> 2\u001b[0;31m   \u001b[0mfn_4\u001b[0m\u001b[0;34m(\u001b[0m\u001b[0;34m)\u001b[0m\u001b[0;34m\u001b[0m\u001b[0;34m\u001b[0m\u001b[0m\n\u001b[0m\u001b[1;32m      3\u001b[0m \u001b[0;34m\u001b[0m\u001b[0m\n\u001b[1;32m      4\u001b[0m \u001b[0mfn_3\u001b[0m\u001b[0;34m(\u001b[0m\u001b[0;34m)\u001b[0m\u001b[0;34m\u001b[0m\u001b[0;34m\u001b[0m\u001b[0m\n\u001b[1;32m      5\u001b[0m \u001b[0;34m\u001b[0m\u001b[0m\n",
            "\u001b[0;31mNameError\u001b[0m: name 'fn_4' is not defined"
          ]
        }
      ]
    },
    {
      "cell_type": "code",
      "metadata": {
        "colab": {
          "base_uri": "https://localhost:8080/"
        },
        "id": "m2Yjz4RFoL2G",
        "outputId": "cdc740ac-17fc-485f-fb5d-d3a216734f35"
      },
      "source": [
        "def squarethis(x, y):\n",
        "  return x**2 + y\n",
        " \n",
        "squarethis(4, 4)"
      ],
      "execution_count": 60,
      "outputs": [
        {
          "output_type": "execute_result",
          "data": {
            "text/plain": [
              "20"
            ]
          },
          "metadata": {},
          "execution_count": 60
        }
      ]
    },
    {
      "cell_type": "code",
      "metadata": {
        "colab": {
          "base_uri": "https://localhost:8080/"
        },
        "id": "MRDa926poUYK",
        "outputId": "200b0b0e-13c3-4c99-b930-d0066aba3ff1"
      },
      "source": [
        "squarethis = lambda x, y: x**2 + y\n",
        "\n",
        "squarethis(4, 4)"
      ],
      "execution_count": 61,
      "outputs": [
        {
          "output_type": "execute_result",
          "data": {
            "text/plain": [
              "20"
            ]
          },
          "metadata": {},
          "execution_count": 61
        }
      ]
    },
    {
      "cell_type": "code",
      "metadata": {
        "colab": {
          "base_uri": "https://localhost:8080/"
        },
        "id": "Tlhnyu83okFV",
        "outputId": "fd1e7334-12de-402c-cfb7-cefa67405e23"
      },
      "source": [
        "def sq(x):\n",
        "  return x**2 \n",
        "\n",
        "def cu(x):\n",
        "  return x**3  \n",
        "\n",
        "def run_this(fn, n):\n",
        "  return(fn(n))\n",
        "\n",
        "run_this(cu, 4)"
      ],
      "execution_count": 62,
      "outputs": [
        {
          "output_type": "execute_result",
          "data": {
            "text/plain": [
              "64"
            ]
          },
          "metadata": {},
          "execution_count": 62
        }
      ]
    },
    {
      "cell_type": "code",
      "metadata": {
        "colab": {
          "base_uri": "https://localhost:8080/"
        },
        "id": "Z0sD-O0FpAf3",
        "outputId": "b5e77ab3-bb65-4d8e-d409-6000b34d9234"
      },
      "source": [
        "def run_this(fn, n):\n",
        "  return(fn(n))\n",
        "\n",
        "run_this(lambda x: x**2, 4)"
      ],
      "execution_count": 63,
      "outputs": [
        {
          "output_type": "execute_result",
          "data": {
            "text/plain": [
              "16"
            ]
          },
          "metadata": {},
          "execution_count": 63
        }
      ]
    },
    {
      "cell_type": "markdown",
      "metadata": {
        "id": "oYCX-7fkpOTj"
      },
      "source": [
        "# While Loops"
      ]
    },
    {
      "cell_type": "code",
      "metadata": {
        "colab": {
          "base_uri": "https://localhost:8080/"
        },
        "id": "o_ROf7WbpIuW",
        "outputId": "cb838608-dbed-4382-abbc-63980c47598d"
      },
      "source": [
        "# while <exp is true>: code block\n",
        "\n",
        "i = 0\n",
        "while i < 5:\n",
        "  print(i)\n",
        "  i += 1"
      ],
      "execution_count": 64,
      "outputs": [
        {
          "output_type": "stream",
          "name": "stdout",
          "text": [
            "0\n",
            "1\n",
            "2\n",
            "3\n",
            "4\n"
          ]
        }
      ]
    },
    {
      "cell_type": "code",
      "metadata": {
        "id": "LMdVNZPipWfe"
      },
      "source": [
        "i = 6\n",
        "while i < 5:\n",
        "  print(i)\n",
        "  i += 1"
      ],
      "execution_count": 65,
      "outputs": []
    },
    {
      "cell_type": "code",
      "metadata": {
        "colab": {
          "base_uri": "https://localhost:8080/"
        },
        "id": "0mbWio4apaOj",
        "outputId": "6df54c17-3de6-4244-c748-653884fa5599"
      },
      "source": [
        "i = 6\n",
        "while True:\n",
        "  print(i)\n",
        "  if i >=5:\n",
        "    break"
      ],
      "execution_count": 66,
      "outputs": [
        {
          "output_type": "stream",
          "name": "stdout",
          "text": [
            "6\n"
          ]
        }
      ]
    },
    {
      "cell_type": "code",
      "metadata": {
        "colab": {
          "base_uri": "https://localhost:8080/"
        },
        "id": "K6FZ4STypoe2",
        "outputId": "38b1b309-03dd-48af-dcb4-c8e314d7e99b"
      },
      "source": [
        "min_len = 2\n",
        "\n",
        "name = input(\"Please enter your name:\")\n",
        "\n",
        "while (len(name) <= min_len):\n",
        "  name = input(\"Please enter your name:\")"
      ],
      "execution_count": 67,
      "outputs": [
        {
          "name": "stdout",
          "output_type": "stream",
          "text": [
            "Please enter your name:sunil\n"
          ]
        }
      ]
    },
    {
      "cell_type": "code",
      "metadata": {
        "colab": {
          "base_uri": "https://localhost:8080/"
        },
        "id": "GsFrmzBNpxff",
        "outputId": "cc74177e-7f3f-4abb-f91f-518e64f25407"
      },
      "source": [
        "min_len = 2\n",
        "\n",
        "while True:\n",
        "  name = input(\"Please enter your name:\")\n",
        "  if len(name) >= min_len:\n",
        "    break"
      ],
      "execution_count": 68,
      "outputs": [
        {
          "name": "stdout",
          "output_type": "stream",
          "text": [
            "Please enter your name:Sunil\n"
          ]
        }
      ]
    },
    {
      "cell_type": "code",
      "metadata": {
        "colab": {
          "base_uri": "https://localhost:8080/"
        },
        "id": "2VRJ_CQ6qRYH",
        "outputId": "5afbeb5c-a899-4db9-dd73-6ef0af2f68e4"
      },
      "source": [
        "a = 0\n",
        "\n",
        "while a < 10:\n",
        "  a += 1\n",
        "  if a % 2:\n",
        "    print(a)\n",
        "  "
      ],
      "execution_count": 69,
      "outputs": [
        {
          "output_type": "stream",
          "name": "stdout",
          "text": [
            "1\n",
            "3\n",
            "5\n",
            "7\n",
            "9\n"
          ]
        }
      ]
    },
    {
      "cell_type": "code",
      "metadata": {
        "colab": {
          "base_uri": "https://localhost:8080/"
        },
        "id": "Zvhy-RjmqoIP",
        "outputId": "a04d4ead-5626-46c4-8b5b-88717db362b3"
      },
      "source": [
        "# while else\n",
        "l = [1, 2, 3, 10]\n",
        "val = 10\n",
        "\n",
        "found = False\n",
        "\n",
        "idx = 0\n",
        "\n",
        "while idx < len(l):\n",
        "  if l[idx] == val:\n",
        "    found = True\n",
        "    break\n",
        "  idx += 1\n",
        "\n",
        "if not found:\n",
        "  print(\"We came here\")\n",
        "  l.append(val)\n",
        "\n",
        "print(l)\n",
        "\n"
      ],
      "execution_count": 70,
      "outputs": [
        {
          "output_type": "stream",
          "name": "stdout",
          "text": [
            "[1, 2, 3, 10]\n"
          ]
        }
      ]
    },
    {
      "cell_type": "code",
      "metadata": {
        "colab": {
          "base_uri": "https://localhost:8080/"
        },
        "id": "zPHckpNfrnPP",
        "outputId": "88a92536-1904-4bfe-8668-05dba2d59373"
      },
      "source": [
        "# while else\n",
        "l = [1, 2, 3, 10]\n",
        "val = 10\n",
        "\n",
        "idx = 0\n",
        "\n",
        "while idx < len(l):\n",
        "  if l[idx] == val:\n",
        "    break\n",
        "  idx += 1\n",
        "else:\n",
        "  print(\"We came here\")\n",
        "  l.append(val)\n",
        "\n",
        "print(l)"
      ],
      "execution_count": 71,
      "outputs": [
        {
          "output_type": "stream",
          "name": "stdout",
          "text": [
            "[1, 2, 3, 10]\n"
          ]
        }
      ]
    },
    {
      "cell_type": "markdown",
      "metadata": {
        "id": "9G2fTR-usBg1"
      },
      "source": [
        "# Try Except and Finally"
      ]
    },
    {
      "cell_type": "code",
      "metadata": {
        "colab": {
          "base_uri": "https://localhost:8080/"
        },
        "id": "-u9ed7qcr2S4",
        "outputId": "a8ed0da1-efb3-4339-fb1a-ebf5044df681"
      },
      "source": [
        "a = 10\n",
        "b = 0\n",
        "\n",
        "try:\n",
        "  a / b\n",
        "except ZeroDivisionError:\n",
        "  print(\"I am sorry\")"
      ],
      "execution_count": 72,
      "outputs": [
        {
          "output_type": "stream",
          "name": "stdout",
          "text": [
            "I am sorry\n"
          ]
        }
      ]
    },
    {
      "cell_type": "code",
      "metadata": {
        "colab": {
          "base_uri": "https://localhost:8080/"
        },
        "id": "vEFVeFVpsNFE",
        "outputId": "a34d85dd-da06-4136-e4cd-42980958bc8e"
      },
      "source": [
        "a = 10\n",
        "b = 1\n",
        "\n",
        "try:\n",
        "  a / b\n",
        "except ZeroDivisionError:\n",
        "  print(\"I am sorry\")\n",
        "finally:\n",
        "  print(\"I am always going to run\")"
      ],
      "execution_count": 73,
      "outputs": [
        {
          "output_type": "stream",
          "name": "stdout",
          "text": [
            "I am always going to run\n"
          ]
        }
      ]
    },
    {
      "cell_type": "code",
      "metadata": {
        "colab": {
          "base_uri": "https://localhost:8080/"
        },
        "id": "lEzpCrvbscq8",
        "outputId": "ccd485e0-cf97-46a7-aa6a-e527aacf0718"
      },
      "source": [
        "a = 0\n",
        "b = 2\n",
        "\n",
        "while a < 3:\n",
        "  print('__________________')\n",
        "  a +=1 \n",
        "  b -=1 \n",
        "  try:\n",
        "    res = a / b\n",
        "  except ZeroDivisionError:\n",
        "    print(f'{a} / {b} - division by error')\n",
        "    res = 0\n",
        "    continue\n",
        "  finally:\n",
        "    print(f'{a} / {b} - always executes')"
      ],
      "execution_count": 74,
      "outputs": [
        {
          "output_type": "stream",
          "name": "stdout",
          "text": [
            "__________________\n",
            "1 / 1 - always executes\n",
            "__________________\n",
            "2 / 0 - division by error\n",
            "2 / 0 - always executes\n",
            "__________________\n",
            "3 / -1 - always executes\n"
          ]
        }
      ]
    },
    {
      "cell_type": "code",
      "metadata": {
        "colab": {
          "base_uri": "https://localhost:8080/"
        },
        "id": "Igei2ecytChE",
        "outputId": "fa37ee3a-567a-4341-b283-2bd3514fb20f"
      },
      "source": [
        "a = 0\n",
        "b = 2\n",
        "\n",
        "while a < 3:\n",
        "  print('__________________')\n",
        "  a +=1 \n",
        "  b -=1 \n",
        "  try:\n",
        "    res = a / b\n",
        "  except ZeroDivisionError:\n",
        "    print(f'{a} / {b} - division by error')\n",
        "    res = 0\n",
        "    break\n",
        "  finally:\n",
        "    print(f'{a} / {b} - always executes')"
      ],
      "execution_count": 75,
      "outputs": [
        {
          "output_type": "stream",
          "name": "stdout",
          "text": [
            "__________________\n",
            "1 / 1 - always executes\n",
            "__________________\n",
            "2 / 0 - division by error\n",
            "2 / 0 - always executes\n"
          ]
        }
      ]
    },
    {
      "cell_type": "code",
      "metadata": {
        "colab": {
          "base_uri": "https://localhost:8080/"
        },
        "id": "Ka9oCH5AtSEg",
        "outputId": "87babfc8-c3cd-4160-f502-d92e0f40bcf3"
      },
      "source": [
        "a = 0\n",
        "b = 4\n",
        "\n",
        "while a < 3:\n",
        "  print('__________________')\n",
        "  a +=1 \n",
        "  b -=1 \n",
        "  try:\n",
        "    res = a / b\n",
        "  except ZeroDivisionError:\n",
        "    print(f'{a} / {b} - division by error')\n",
        "    res = 0\n",
        "    break\n",
        "  finally:\n",
        "    print(f'{a} / {b} - always executes')\n",
        "else:\n",
        "  print(f'the break statement was not encountered. Value of b is {b}')\n"
      ],
      "execution_count": 76,
      "outputs": [
        {
          "output_type": "stream",
          "name": "stdout",
          "text": [
            "__________________\n",
            "1 / 3 - always executes\n",
            "__________________\n",
            "2 / 2 - always executes\n",
            "__________________\n",
            "3 / 1 - always executes\n",
            "the break statement was not encountered. Value of b is 1\n"
          ]
        }
      ]
    },
    {
      "cell_type": "code",
      "metadata": {
        "colab": {
          "base_uri": "https://localhost:8080/"
        },
        "id": "RzOWhwo6tgDG",
        "outputId": "d9b43e69-1bac-4a89-c668-2feab4500c6c"
      },
      "source": [
        "i = 0\n",
        "while i < 4:\n",
        "  i += 1\n",
        "  if i == 3:\n",
        "    continue\n",
        "  else:\n",
        "    print(i)\n",
        "  print(\"Hello\")\n",
        "  "
      ],
      "execution_count": 77,
      "outputs": [
        {
          "output_type": "stream",
          "name": "stdout",
          "text": [
            "1\n",
            "Hello\n",
            "2\n",
            "Hello\n",
            "4\n",
            "Hello\n"
          ]
        }
      ]
    },
    {
      "cell_type": "code",
      "metadata": {
        "colab": {
          "base_uri": "https://localhost:8080/"
        },
        "id": "ZjfJeZS6toEk",
        "outputId": "f503b176-0c9b-4c92-d247-e5c752bdae9e"
      },
      "source": [
        "# for(int i = 0; i<=10; i++)\n",
        "\n",
        "for i in range(5):\n",
        "  print(i)"
      ],
      "execution_count": 78,
      "outputs": [
        {
          "output_type": "stream",
          "name": "stdout",
          "text": [
            "0\n",
            "1\n",
            "2\n",
            "3\n",
            "4\n"
          ]
        }
      ]
    },
    {
      "cell_type": "code",
      "metadata": {
        "colab": {
          "base_uri": "https://localhost:8080/"
        },
        "id": "8PdLwtwgusOa",
        "outputId": "11ec6253-5350-482d-cb85-b97c43200993"
      },
      "source": [
        "for i in 'alaska':\n",
        "  print(i)"
      ],
      "execution_count": 79,
      "outputs": [
        {
          "output_type": "stream",
          "name": "stdout",
          "text": [
            "a\n",
            "l\n",
            "a\n",
            "s\n",
            "k\n",
            "a\n"
          ]
        }
      ]
    },
    {
      "cell_type": "code",
      "metadata": {
        "colab": {
          "base_uri": "https://localhost:8080/"
        },
        "id": "PNbRK_zAuvCZ",
        "outputId": "855c4730-982f-4877-ea77-9cd5e87993c4"
      },
      "source": [
        "for i in [1, 2, 3, 4]:\n",
        "  print(i)"
      ],
      "execution_count": 80,
      "outputs": [
        {
          "output_type": "stream",
          "name": "stdout",
          "text": [
            "1\n",
            "2\n",
            "3\n",
            "4\n"
          ]
        }
      ]
    },
    {
      "cell_type": "code",
      "metadata": {
        "colab": {
          "base_uri": "https://localhost:8080/"
        },
        "id": "QIGei9QzuxYz",
        "outputId": "f0669cf8-8c74-4ead-df89-23b199a530e3"
      },
      "source": [
        "for i in (1, 2, 3, 4):\n",
        "  print(i)"
      ],
      "execution_count": 81,
      "outputs": [
        {
          "output_type": "stream",
          "name": "stdout",
          "text": [
            "1\n",
            "2\n",
            "3\n",
            "4\n"
          ]
        }
      ]
    },
    {
      "cell_type": "code",
      "metadata": {
        "colab": {
          "base_uri": "https://localhost:8080/"
        },
        "id": "fn4B7qaZuzfC",
        "outputId": "c5c1f6e2-b40c-438a-8cf9-589f4779e9f8"
      },
      "source": [
        "for i in {1:11, 2:22, 3:33}:\n",
        "  print(i)"
      ],
      "execution_count": 82,
      "outputs": [
        {
          "output_type": "stream",
          "name": "stdout",
          "text": [
            "1\n",
            "2\n",
            "3\n"
          ]
        }
      ]
    },
    {
      "cell_type": "code",
      "metadata": {
        "colab": {
          "base_uri": "https://localhost:8080/"
        },
        "id": "Eo2l5mdfu23n",
        "outputId": "99ebd4bc-d64a-4391-a2c7-0446a55a0b1d"
      },
      "source": [
        "for i in ('a', 'b', 'c'):\n",
        "  print(i)"
      ],
      "execution_count": 83,
      "outputs": [
        {
          "output_type": "stream",
          "name": "stdout",
          "text": [
            "a\n",
            "b\n",
            "c\n"
          ]
        }
      ]
    },
    {
      "cell_type": "code",
      "metadata": {
        "colab": {
          "base_uri": "https://localhost:8080/"
        },
        "id": "_DykMWmKvFLX",
        "outputId": "953d0f16-d8fd-45eb-ad97-6e2b8a500d46"
      },
      "source": [
        "for i, j in enumerate('This is a very long line'):\n",
        "  if j == 'v':\n",
        "    print(f'v was found at {i}')"
      ],
      "execution_count": 84,
      "outputs": [
        {
          "output_type": "stream",
          "name": "stdout",
          "text": [
            "v was found at 10\n"
          ]
        }
      ]
    },
    {
      "cell_type": "code",
      "metadata": {
        "colab": {
          "base_uri": "https://localhost:8080/"
        },
        "id": "uyp1yC--vJLi",
        "outputId": "f665328f-b56e-455f-ed64-bf563922b20c"
      },
      "source": [
        "for i, j in enumerate(\"rohan\"):\n",
        "  print( j)"
      ],
      "execution_count": 85,
      "outputs": [
        {
          "output_type": "stream",
          "name": "stdout",
          "text": [
            "r\n",
            "o\n",
            "h\n",
            "a\n",
            "n\n"
          ]
        }
      ]
    },
    {
      "cell_type": "code",
      "metadata": {
        "colab": {
          "base_uri": "https://localhost:8080/"
        },
        "id": "xJvn_dbpvXbi",
        "outputId": "5fe7a240-70c2-4361-d383-06da1d6bfc76"
      },
      "source": [
        "for i in range(5):\n",
        "  if i == 3:\n",
        "    continue\n",
        "  print(i)"
      ],
      "execution_count": 86,
      "outputs": [
        {
          "output_type": "stream",
          "name": "stdout",
          "text": [
            "0\n",
            "1\n",
            "2\n",
            "4\n"
          ]
        }
      ]
    },
    {
      "cell_type": "code",
      "metadata": {
        "colab": {
          "base_uri": "https://localhost:8080/"
        },
        "id": "4mB7vkylvvB-",
        "outputId": "1d7d21a1-fdc9-41ca-875b-36c51d6c2f49"
      },
      "source": [
        "for i in range(5):\n",
        "  if i == 3:\n",
        "    break\n",
        "  print(i)"
      ],
      "execution_count": 87,
      "outputs": [
        {
          "output_type": "stream",
          "name": "stdout",
          "text": [
            "0\n",
            "1\n",
            "2\n"
          ]
        }
      ]
    },
    {
      "cell_type": "code",
      "metadata": {
        "id": "x4ObApnqvwnd"
      },
      "source": [
        "for i in range(5):\n",
        "  if i == 6:\n",
        "    break\n",
        "  print(i)\n",
        "else:\n",
        "  print(\"did not find 6\")"
      ],
      "execution_count": null,
      "outputs": []
    },
    {
      "cell_type": "code",
      "metadata": {
        "colab": {
          "base_uri": "https://localhost:8080/"
        },
        "id": "NdRD8TnZv1Ky",
        "outputId": "cd1b4ebc-225f-4094-c09f-6d250577a910"
      },
      "source": [
        "for i in range(5):\n",
        "  print('____________________')\n",
        "  try:\n",
        "    10 / (i - 3)\n",
        "  except ZeroDivisionError:\n",
        "    print('divided by 0')\n",
        "    continue\n",
        "  finally:\n",
        "    print('always run')\n",
        "  print(i)"
      ],
      "execution_count": 88,
      "outputs": [
        {
          "output_type": "stream",
          "name": "stdout",
          "text": [
            "____________________\n",
            "always run\n",
            "0\n",
            "____________________\n",
            "always run\n",
            "1\n",
            "____________________\n",
            "always run\n",
            "2\n",
            "____________________\n",
            "divided by 0\n",
            "always run\n",
            "____________________\n",
            "always run\n",
            "4\n"
          ]
        }
      ]
    },
    {
      "cell_type": "markdown",
      "metadata": {
        "id": "2c4Kgp97wSFA"
      },
      "source": [
        "# Classes"
      ]
    },
    {
      "cell_type": "code",
      "metadata": {
        "id": "d3MhAMbuwMRm"
      },
      "source": [
        "class Rectangle:\n",
        "  def __init__(tiger, width, height):\n",
        "    tiger.width = width\n",
        "    tiger.height = height\n",
        "    tiger.value = 100\n",
        "  def area(tiger):\n",
        "    return tiger.height * tiger.width\n",
        "\n",
        "r = Rectangle(12, 13)"
      ],
      "execution_count": 89,
      "outputs": []
    },
    {
      "cell_type": "code",
      "metadata": {
        "colab": {
          "base_uri": "https://localhost:8080/"
        },
        "id": "z103gI3Dwnka",
        "outputId": "f6c95e11-e273-42a3-e109-c9294c07a4b2"
      },
      "source": [
        "r.area()"
      ],
      "execution_count": 90,
      "outputs": [
        {
          "output_type": "execute_result",
          "data": {
            "text/plain": [
              "156"
            ]
          },
          "metadata": {},
          "execution_count": 90
        }
      ]
    },
    {
      "cell_type": "code",
      "metadata": {
        "colab": {
          "base_uri": "https://localhost:8080/"
        },
        "id": "JID6SC3UyPz3",
        "outputId": "d30e5895-0686-4991-d88d-6ce40be17f6e"
      },
      "source": [
        "r.width = 100\n",
        "r.area()"
      ],
      "execution_count": 91,
      "outputs": [
        {
          "output_type": "execute_result",
          "data": {
            "text/plain": [
              "1300"
            ]
          },
          "metadata": {},
          "execution_count": 91
        }
      ]
    },
    {
      "cell_type": "code",
      "metadata": {
        "colab": {
          "base_uri": "https://localhost:8080/"
        },
        "id": "ss1rZQrQynh-",
        "outputId": "8e1d7f35-66b4-4038-d49c-286c94692a14"
      },
      "source": [
        "class Rectangle:\n",
        "  def __init__(self, width, height):\n",
        "    self.width = width\n",
        "    self.height = height\n",
        "    self.value = 100\n",
        "  def area(self):\n",
        "    return self.height * self.width\n",
        "  def perimeter(self):\n",
        "    return 2 * (self.height + self.width)\n",
        "\n",
        "r = Rectangle(12, 13)\n",
        "r.perimeter(), r.area()"
      ],
      "execution_count": 92,
      "outputs": [
        {
          "output_type": "execute_result",
          "data": {
            "text/plain": [
              "(50, 156)"
            ]
          },
          "metadata": {},
          "execution_count": 92
        }
      ]
    },
    {
      "cell_type": "code",
      "metadata": {
        "colab": {
          "base_uri": "https://localhost:8080/"
        },
        "id": "puR2GP0hzG5C",
        "outputId": "f783ec9b-5930-4640-b003-5f8c53e5f0cc"
      },
      "source": [
        "dir(Rectangle)"
      ],
      "execution_count": 93,
      "outputs": [
        {
          "output_type": "execute_result",
          "data": {
            "text/plain": [
              "['__class__',\n",
              " '__delattr__',\n",
              " '__dict__',\n",
              " '__dir__',\n",
              " '__doc__',\n",
              " '__eq__',\n",
              " '__format__',\n",
              " '__ge__',\n",
              " '__getattribute__',\n",
              " '__gt__',\n",
              " '__hash__',\n",
              " '__init__',\n",
              " '__init_subclass__',\n",
              " '__le__',\n",
              " '__lt__',\n",
              " '__module__',\n",
              " '__ne__',\n",
              " '__new__',\n",
              " '__reduce__',\n",
              " '__reduce_ex__',\n",
              " '__repr__',\n",
              " '__setattr__',\n",
              " '__sizeof__',\n",
              " '__str__',\n",
              " '__subclasshook__',\n",
              " '__weakref__',\n",
              " 'area',\n",
              " 'perimeter']"
            ]
          },
          "metadata": {},
          "execution_count": 93
        }
      ]
    },
    {
      "cell_type": "code",
      "metadata": {
        "colab": {
          "base_uri": "https://localhost:8080/"
        },
        "id": "jSiPPKm2zNtv",
        "outputId": "164da92d-0bcc-4912-9bcd-f18f173f45c7"
      },
      "source": [
        "class Rectangle:\n",
        "  def __init__(self, width, height):\n",
        "    self.width = width\n",
        "    self.height = height\n",
        "    self.value = 100\n",
        "  def area(self):\n",
        "    return self.height * self.width\n",
        "  def perimeter(self):\n",
        "    return 2 * (self.height + self.width)\n",
        "  def __str__(self):\n",
        "    return f'This is a rectangle with height = {self.height} and width = {self.width}'\n",
        "\n",
        "r = Rectangle(12, 13)\n",
        "r.perimeter(), r.area()"
      ],
      "execution_count": 94,
      "outputs": [
        {
          "output_type": "execute_result",
          "data": {
            "text/plain": [
              "(50, 156)"
            ]
          },
          "metadata": {},
          "execution_count": 94
        }
      ]
    },
    {
      "cell_type": "code",
      "metadata": {
        "colab": {
          "base_uri": "https://localhost:8080/",
          "height": 36
        },
        "id": "-3lgC_4_zkQD",
        "outputId": "0c975713-52a5-410d-b6fc-ed0debeadadd"
      },
      "source": [
        "str(r)"
      ],
      "execution_count": 95,
      "outputs": [
        {
          "output_type": "execute_result",
          "data": {
            "application/vnd.google.colaboratory.intrinsic+json": {
              "type": "string"
            },
            "text/plain": [
              "'This is a rectangle with height = 13 and width = 12'"
            ]
          },
          "metadata": {},
          "execution_count": 95
        }
      ]
    },
    {
      "cell_type": "code",
      "metadata": {
        "colab": {
          "base_uri": "https://localhost:8080/"
        },
        "id": "H7TaFBN7zlZT",
        "outputId": "37a0ffcf-c27f-43cc-ebe6-03b3c26ab629"
      },
      "source": [
        "class Rectangle:\n",
        "  def __init__(self, width, height):\n",
        "    self.width = width\n",
        "    self.height = height\n",
        "    self.value = 100\n",
        "  def area(self):\n",
        "    return self.height * self.width\n",
        "  def perimeter(self):\n",
        "    return 2 * (self.height + self.width)\n",
        "  def __str__(self):\n",
        "    return f'This is a rectangle with height = {self.height} and width = {self.width}'\n",
        "  def __repr__(self):\n",
        "    return f'This is a rectangle with height = {self.height} and width = {self.width}'\n",
        "\n",
        "r = Rectangle(12, 13)\n",
        "r.perimeter(), r.area()"
      ],
      "execution_count": 96,
      "outputs": [
        {
          "output_type": "execute_result",
          "data": {
            "text/plain": [
              "(50, 156)"
            ]
          },
          "metadata": {},
          "execution_count": 96
        }
      ]
    },
    {
      "cell_type": "code",
      "metadata": {
        "colab": {
          "base_uri": "https://localhost:8080/"
        },
        "id": "0hL2UhWTz1_H",
        "outputId": "aa6872dd-c556-4f68-a969-baeb5990008a"
      },
      "source": [
        "type(Rectangle), type(r)"
      ],
      "execution_count": 97,
      "outputs": [
        {
          "output_type": "execute_result",
          "data": {
            "text/plain": [
              "(type, __main__.Rectangle)"
            ]
          },
          "metadata": {},
          "execution_count": 97
        }
      ]
    },
    {
      "cell_type": "code",
      "metadata": {
        "colab": {
          "base_uri": "https://localhost:8080/"
        },
        "id": "-K4M35eFz3A1",
        "outputId": "d98b3c33-33f1-45fd-c0bb-68fd3575d0e9"
      },
      "source": [
        "r1 = Rectangle(12, 13)\n",
        "\n",
        "r == r1"
      ],
      "execution_count": 98,
      "outputs": [
        {
          "output_type": "execute_result",
          "data": {
            "text/plain": [
              "False"
            ]
          },
          "metadata": {},
          "execution_count": 98
        }
      ]
    },
    {
      "cell_type": "code",
      "metadata": {
        "colab": {
          "base_uri": "https://localhost:8080/"
        },
        "id": "IBl08enc0Ykt",
        "outputId": "f67d587e-8f02-4cfc-992a-c90415c3dba0"
      },
      "source": [
        "class Rectangle:\n",
        "  def __init__(self, width, height):\n",
        "    self.width = width\n",
        "    self.height = height\n",
        "    self.value = 100\n",
        "  def area(self):\n",
        "    return self.height * self.width\n",
        "  def perimeter(self):\n",
        "    return 2 * (self.height + self.width)\n",
        "  def __str__(self):\n",
        "    return f'This is a rectangle with height = {self.height} and width = {self.width}'\n",
        "  def __repr__(self):\n",
        "    return f'This is a rectangle with height = {self.height} and width = {self.width}'\n",
        "  def __eq__(self, other):\n",
        "    print(f'self = {self}, other = {other}')\n",
        "    if isinstance(other, Rectangle):\n",
        "      return (self.height, self.width) == (other.height, other.width)\n",
        "    else:\n",
        "      False\n",
        "\n",
        "r = Rectangle(12, 13)\n",
        "r.perimeter(), r.area()\n",
        "r1 = Rectangle(12, 13)\n",
        "\n",
        "r == r1"
      ],
      "execution_count": 99,
      "outputs": [
        {
          "output_type": "stream",
          "name": "stdout",
          "text": [
            "self = This is a rectangle with height = 13 and width = 12, other = This is a rectangle with height = 13 and width = 12\n"
          ]
        },
        {
          "output_type": "execute_result",
          "data": {
            "text/plain": [
              "True"
            ]
          },
          "metadata": {},
          "execution_count": 99
        }
      ]
    },
    {
      "cell_type": "code",
      "metadata": {
        "id": "XmlXpUSP0chW"
      },
      "source": [
        "class Rectangle:\n",
        "  def __init__(self, width, height):\n",
        "    self.width = width\n",
        "    self.height = height\n",
        "    self.value = 100\n",
        "  def area(self):\n",
        "    return self.height * self.width\n",
        "  def perimeter(self):\n",
        "    return 2 * (self.height + self.width)\n",
        "  def __str__(self):\n",
        "    return f'This is a rectangle with height = {self.height} and width = {self.width}'\n",
        "  def __repr__(self):\n",
        "    return f'This is a rectangle with height = {self.height} and width = {self.width}'\n",
        "  def __eq__(self, other):\n",
        "    print(f'self = {self}, other = {other}')\n",
        "    if isinstance(other, Rectangle):\n",
        "      return (self.height, self.width) == (other.height, other.width)\n",
        "    else:\n",
        "      False\n",
        "\n",
        "r = Rectangle(-10, 30)"
      ],
      "execution_count": 100,
      "outputs": []
    },
    {
      "cell_type": "code",
      "metadata": {
        "id": "3xM7AkmQ1Ru0"
      },
      "source": [
        "r.width = -40"
      ],
      "execution_count": 101,
      "outputs": []
    },
    {
      "cell_type": "code",
      "metadata": {
        "colab": {
          "base_uri": "https://localhost:8080/"
        },
        "id": "hFB5KAsT1UMV",
        "outputId": "37ead865-93b2-40fc-be77-722ae5491f3d"
      },
      "source": [
        "class Rectangle:\n",
        "  def __init__(self, width, height):\n",
        "    self._width = width\n",
        "    self._height = height\n",
        "\n",
        "  def __repr__(self):\n",
        "    return f'Rectange({self._height},{self._width})'\n",
        "\n",
        "  @property\n",
        "  def width(self):\n",
        "    print(\"I am going to get executed\")\n",
        "    return self._width\n",
        "\n",
        "  @width.setter\n",
        "  def width(self, width):\n",
        "    if width < 0:\n",
        "      raise ValueError('Width must be positive dude!')\n",
        "    else:\n",
        "      self._width = width\n",
        "\n",
        "r = Rectangle(1.4, -100)\n",
        "r"
      ],
      "execution_count": 102,
      "outputs": [
        {
          "output_type": "execute_result",
          "data": {
            "text/plain": [
              "Rectange(-100,1.4)"
            ]
          },
          "metadata": {},
          "execution_count": 102
        }
      ]
    },
    {
      "cell_type": "code",
      "metadata": {
        "colab": {
          "base_uri": "https://localhost:8080/"
        },
        "id": "Pt_bR2H01hqq",
        "outputId": "6aa5e421-dc01-49d9-c6e7-4ad6ccb44c1e"
      },
      "source": [
        "r.width"
      ],
      "execution_count": 103,
      "outputs": [
        {
          "output_type": "stream",
          "name": "stdout",
          "text": [
            "I am going to get executed\n"
          ]
        },
        {
          "output_type": "execute_result",
          "data": {
            "text/plain": [
              "1.4"
            ]
          },
          "metadata": {},
          "execution_count": 103
        }
      ]
    },
    {
      "cell_type": "code",
      "metadata": {
        "colab": {
          "base_uri": "https://localhost:8080/",
          "height": 292
        },
        "id": "PA-4bMTj1wx1",
        "outputId": "b9ab8f82-143a-4c47-9080-dbaa5847d181"
      },
      "source": [
        "r.width = -100"
      ],
      "execution_count": 105,
      "outputs": [
        {
          "output_type": "error",
          "ename": "ValueError",
          "evalue": "ignored",
          "traceback": [
            "\u001b[0;31m---------------------------------------------------------------------------\u001b[0m",
            "\u001b[0;31mValueError\u001b[0m                                Traceback (most recent call last)",
            "\u001b[0;32m<ipython-input-105-d5b67ca18fc5>\u001b[0m in \u001b[0;36m<module>\u001b[0;34m()\u001b[0m\n\u001b[0;32m----> 1\u001b[0;31m \u001b[0mr\u001b[0m\u001b[0;34m.\u001b[0m\u001b[0mwidth\u001b[0m \u001b[0;34m=\u001b[0m \u001b[0;34m-\u001b[0m\u001b[0;36m100\u001b[0m\u001b[0;34m\u001b[0m\u001b[0;34m\u001b[0m\u001b[0m\n\u001b[0m",
            "\u001b[0;32m<ipython-input-102-a805881b8d21>\u001b[0m in \u001b[0;36mwidth\u001b[0;34m(self, width)\u001b[0m\n\u001b[1;32m     15\u001b[0m   \u001b[0;32mdef\u001b[0m \u001b[0mwidth\u001b[0m\u001b[0;34m(\u001b[0m\u001b[0mself\u001b[0m\u001b[0;34m,\u001b[0m \u001b[0mwidth\u001b[0m\u001b[0;34m)\u001b[0m\u001b[0;34m:\u001b[0m\u001b[0;34m\u001b[0m\u001b[0;34m\u001b[0m\u001b[0m\n\u001b[1;32m     16\u001b[0m     \u001b[0;32mif\u001b[0m \u001b[0mwidth\u001b[0m \u001b[0;34m<\u001b[0m \u001b[0;36m0\u001b[0m\u001b[0;34m:\u001b[0m\u001b[0;34m\u001b[0m\u001b[0;34m\u001b[0m\u001b[0m\n\u001b[0;32m---> 17\u001b[0;31m       \u001b[0;32mraise\u001b[0m \u001b[0mValueError\u001b[0m\u001b[0;34m(\u001b[0m\u001b[0;34m'Width must be positive dude!'\u001b[0m\u001b[0;34m)\u001b[0m\u001b[0;34m\u001b[0m\u001b[0;34m\u001b[0m\u001b[0m\n\u001b[0m\u001b[1;32m     18\u001b[0m     \u001b[0;32melse\u001b[0m\u001b[0;34m:\u001b[0m\u001b[0;34m\u001b[0m\u001b[0;34m\u001b[0m\u001b[0m\n\u001b[1;32m     19\u001b[0m       \u001b[0mself\u001b[0m\u001b[0;34m.\u001b[0m\u001b[0m_width\u001b[0m \u001b[0;34m=\u001b[0m \u001b[0mwidth\u001b[0m\u001b[0;34m\u001b[0m\u001b[0;34m\u001b[0m\u001b[0m\n",
            "\u001b[0;31mValueError\u001b[0m: Width must be positive dude!"
          ]
        }
      ]
    },
    {
      "cell_type": "code",
      "metadata": {
        "id": "g4-N917G15Qb"
      },
      "source": [
        "r._width = 10"
      ],
      "execution_count": 106,
      "outputs": []
    },
    {
      "cell_type": "code",
      "metadata": {
        "colab": {
          "base_uri": "https://localhost:8080/",
          "height": 221
        },
        "id": "8eGpR2dH2ZRH",
        "outputId": "eb696b90-79fc-4dc7-85aa-96f77e9e525a"
      },
      "source": [
        "def deco(fn):\n",
        "  print(\"Authenticated\")\n",
        "  return fn\n",
        "\n",
        "def func(n, auth):\n",
        "  return n/10\n",
        "  \n",
        "deco(func)(100)"
      ],
      "execution_count": 107,
      "outputs": [
        {
          "output_type": "stream",
          "name": "stdout",
          "text": [
            "Authenticated\n"
          ]
        },
        {
          "output_type": "error",
          "ename": "TypeError",
          "evalue": "ignored",
          "traceback": [
            "\u001b[0;31m---------------------------------------------------------------------------\u001b[0m",
            "\u001b[0;31mTypeError\u001b[0m                                 Traceback (most recent call last)",
            "\u001b[0;32m<ipython-input-107-753401223ac0>\u001b[0m in \u001b[0;36m<module>\u001b[0;34m()\u001b[0m\n\u001b[1;32m      6\u001b[0m   \u001b[0;32mreturn\u001b[0m \u001b[0mn\u001b[0m\u001b[0;34m/\u001b[0m\u001b[0;36m10\u001b[0m\u001b[0;34m\u001b[0m\u001b[0;34m\u001b[0m\u001b[0m\n\u001b[1;32m      7\u001b[0m \u001b[0;34m\u001b[0m\u001b[0m\n\u001b[0;32m----> 8\u001b[0;31m \u001b[0mdeco\u001b[0m\u001b[0;34m(\u001b[0m\u001b[0mfunc\u001b[0m\u001b[0;34m)\u001b[0m\u001b[0;34m(\u001b[0m\u001b[0;36m100\u001b[0m\u001b[0;34m)\u001b[0m\u001b[0;34m\u001b[0m\u001b[0;34m\u001b[0m\u001b[0m\n\u001b[0m",
            "\u001b[0;31mTypeError\u001b[0m: func() missing 1 required positional argument: 'auth'"
          ]
        }
      ]
    },
    {
      "cell_type": "code",
      "metadata": {
        "colab": {
          "base_uri": "https://localhost:8080/"
        },
        "id": "lKirx7Tc4WYU",
        "outputId": "e53078f8-2767-4655-b7ae-facca78b6209"
      },
      "source": [
        "func = deco(func)\n",
        "\n",
        "# @deco\n",
        "#  def func"
      ],
      "execution_count": 108,
      "outputs": [
        {
          "output_type": "stream",
          "name": "stdout",
          "text": [
            "Authenticated\n"
          ]
        }
      ]
    },
    {
      "cell_type": "code",
      "metadata": {
        "colab": {
          "base_uri": "https://localhost:8080/",
          "height": 168
        },
        "id": "fi4g2BKZ4a9O",
        "outputId": "ff678412-18d5-4175-c30f-7060878bfa7c"
      },
      "source": [
        "func(10)"
      ],
      "execution_count": 109,
      "outputs": [
        {
          "output_type": "error",
          "ename": "TypeError",
          "evalue": "ignored",
          "traceback": [
            "\u001b[0;31m---------------------------------------------------------------------------\u001b[0m",
            "\u001b[0;31mTypeError\u001b[0m                                 Traceback (most recent call last)",
            "\u001b[0;32m<ipython-input-109-0baf65f248dd>\u001b[0m in \u001b[0;36m<module>\u001b[0;34m()\u001b[0m\n\u001b[0;32m----> 1\u001b[0;31m \u001b[0mfunc\u001b[0m\u001b[0;34m(\u001b[0m\u001b[0;36m10\u001b[0m\u001b[0;34m)\u001b[0m\u001b[0;34m\u001b[0m\u001b[0;34m\u001b[0m\u001b[0m\n\u001b[0m",
            "\u001b[0;31mTypeError\u001b[0m: func() missing 1 required positional argument: 'auth'"
          ]
        }
      ]
    },
    {
      "cell_type": "code",
      "metadata": {
        "colab": {
          "base_uri": "https://localhost:8080/"
        },
        "id": "lmxd9WdW4uaY",
        "outputId": "80174a9c-e669-45c6-e16c-d330b5739dc2"
      },
      "source": [
        "class Rectangle:\n",
        "  def __init__(self, width, height):\n",
        "    self._width = width\n",
        "    self._height = height\n",
        "\n",
        "  def __repr__(self):\n",
        "    return f'Rectange({self._height},{self._width})'\n",
        "\n",
        "  @property\n",
        "  def width(self):\n",
        "    return self._width\n",
        "\n",
        "  @width.setter\n",
        "  def width(self, width):\n",
        "    if width < 0:\n",
        "      raise ValueError('Width must be positive dude!')\n",
        "    else:\n",
        "      self._width = width\n",
        "\n",
        "  @property\n",
        "  def height(self):\n",
        "    return self._height\n",
        "\n",
        "  @height.setter\n",
        "  def height(self, height):\n",
        "    if height < 0:\n",
        "      raise ValueError('height must be positive dude!')\n",
        "    else:\n",
        "      self._height = height\n",
        "\n",
        "r = Rectangle(1.4, -100)\n",
        "r"
      ],
      "execution_count": 110,
      "outputs": [
        {
          "output_type": "execute_result",
          "data": {
            "text/plain": [
              "Rectange(-100,1.4)"
            ]
          },
          "metadata": {},
          "execution_count": 110
        }
      ]
    },
    {
      "cell_type": "code",
      "metadata": {
        "colab": {
          "base_uri": "https://localhost:8080/"
        },
        "id": "6vj-ZKPk5NIo",
        "outputId": "94192d9a-5158-4cac-fb31-214603443746"
      },
      "source": [
        "r.height"
      ],
      "execution_count": 111,
      "outputs": [
        {
          "output_type": "execute_result",
          "data": {
            "text/plain": [
              "-100"
            ]
          },
          "metadata": {},
          "execution_count": 111
        }
      ]
    },
    {
      "cell_type": "code",
      "metadata": {
        "colab": {
          "base_uri": "https://localhost:8080/",
          "height": 292
        },
        "id": "iBxTLuSd5OMU",
        "outputId": "ca16d47f-9c77-4ad5-c175-e224d5f83f07"
      },
      "source": [
        "r.height = -100"
      ],
      "execution_count": 112,
      "outputs": [
        {
          "output_type": "error",
          "ename": "ValueError",
          "evalue": "ignored",
          "traceback": [
            "\u001b[0;31m---------------------------------------------------------------------------\u001b[0m",
            "\u001b[0;31mValueError\u001b[0m                                Traceback (most recent call last)",
            "\u001b[0;32m<ipython-input-112-8f0dd7959c96>\u001b[0m in \u001b[0;36m<module>\u001b[0;34m()\u001b[0m\n\u001b[0;32m----> 1\u001b[0;31m \u001b[0mr\u001b[0m\u001b[0;34m.\u001b[0m\u001b[0mheight\u001b[0m \u001b[0;34m=\u001b[0m \u001b[0;34m-\u001b[0m\u001b[0;36m100\u001b[0m\u001b[0;34m\u001b[0m\u001b[0;34m\u001b[0m\u001b[0m\n\u001b[0m",
            "\u001b[0;32m<ipython-input-110-4c1bc9ca371c>\u001b[0m in \u001b[0;36mheight\u001b[0;34m(self, height)\u001b[0m\n\u001b[1;32m     25\u001b[0m   \u001b[0;32mdef\u001b[0m \u001b[0mheight\u001b[0m\u001b[0;34m(\u001b[0m\u001b[0mself\u001b[0m\u001b[0;34m,\u001b[0m \u001b[0mheight\u001b[0m\u001b[0;34m)\u001b[0m\u001b[0;34m:\u001b[0m\u001b[0;34m\u001b[0m\u001b[0;34m\u001b[0m\u001b[0m\n\u001b[1;32m     26\u001b[0m     \u001b[0;32mif\u001b[0m \u001b[0mheight\u001b[0m \u001b[0;34m<\u001b[0m \u001b[0;36m0\u001b[0m\u001b[0;34m:\u001b[0m\u001b[0;34m\u001b[0m\u001b[0;34m\u001b[0m\u001b[0m\n\u001b[0;32m---> 27\u001b[0;31m       \u001b[0;32mraise\u001b[0m \u001b[0mValueError\u001b[0m\u001b[0;34m(\u001b[0m\u001b[0;34m'height must be positive dude!'\u001b[0m\u001b[0;34m)\u001b[0m\u001b[0;34m\u001b[0m\u001b[0;34m\u001b[0m\u001b[0m\n\u001b[0m\u001b[1;32m     28\u001b[0m     \u001b[0;32melse\u001b[0m\u001b[0;34m:\u001b[0m\u001b[0;34m\u001b[0m\u001b[0;34m\u001b[0m\u001b[0m\n\u001b[1;32m     29\u001b[0m       \u001b[0mself\u001b[0m\u001b[0;34m.\u001b[0m\u001b[0m_height\u001b[0m \u001b[0;34m=\u001b[0m \u001b[0mheight\u001b[0m\u001b[0;34m\u001b[0m\u001b[0;34m\u001b[0m\u001b[0m\n",
            "\u001b[0;31mValueError\u001b[0m: height must be positive dude!"
          ]
        }
      ]
    },
    {
      "cell_type": "code",
      "metadata": {
        "id": "tPrCBfBj5Wdq"
      },
      "source": [
        "class Rectangle:\n",
        "  def __init__(self, width, height):\n",
        "    self._width = width\n",
        "    self._height = height\n",
        "    self.height = height\n",
        "    self.width = width\n",
        "    \n",
        "\n",
        "  def __repr__(self):\n",
        "    print(id(self))\n",
        "    return f'Rectange({self._height},{self._width})'\n",
        "\n",
        "  @property\n",
        "  def width(self):\n",
        "    return self._width\n",
        "\n",
        "  @width.setter\n",
        "  def width(self, width):\n",
        "    if width < 0:\n",
        "      raise ValueError('Width must be positive dude!')\n",
        "    else:\n",
        "      self._width = width\n",
        "\n",
        "  @property\n",
        "  def height(self):\n",
        "    return self._height\n",
        "\n",
        "  @height.setter\n",
        "  def height(self, height):\n",
        "    if height < 0:\n",
        "      raise ValueError('height must be positive dude!')\n",
        "    else:\n",
        "      self._height = height"
      ],
      "execution_count": 113,
      "outputs": []
    },
    {
      "cell_type": "code",
      "metadata": {
        "id": "33V9ksan5qjV"
      },
      "source": [
        "r = Rectangle(10, 10)"
      ],
      "execution_count": 114,
      "outputs": []
    },
    {
      "cell_type": "code",
      "metadata": {
        "colab": {
          "base_uri": "https://localhost:8080/"
        },
        "id": "Qt8N6pFI5vhA",
        "outputId": "c44a375e-f15f-4939-cb1a-9014dc6b0ce2"
      },
      "source": [
        "r"
      ],
      "execution_count": 115,
      "outputs": [
        {
          "output_type": "stream",
          "name": "stdout",
          "text": [
            "140619153799504\n"
          ]
        },
        {
          "output_type": "execute_result",
          "data": {
            "text/plain": [
              "Rectange(10,10)"
            ]
          },
          "metadata": {},
          "execution_count": 115
        }
      ]
    },
    {
      "cell_type": "code",
      "metadata": {
        "colab": {
          "base_uri": "https://localhost:8080/"
        },
        "id": "QIHu-LSE59D5",
        "outputId": "05f7d524-e99a-4d74-d8fb-cf69a476b255"
      },
      "source": [
        "id(r)"
      ],
      "execution_count": 116,
      "outputs": [
        {
          "output_type": "execute_result",
          "data": {
            "text/plain": [
              "140619153799504"
            ]
          },
          "metadata": {},
          "execution_count": 116
        }
      ]
    },
    {
      "cell_type": "code",
      "metadata": {
        "id": "wA3cUMSl6Aa-"
      },
      "source": [
        "class Rectangle:\n",
        "  def __init__(self, width, height):\n",
        "    self._width = width\n",
        "    self._height = height\n",
        "    self.height = height\n",
        "    self.width = width\n",
        "\n",
        "  def area():\n",
        "    return self.width, self.height\n",
        "    \n",
        "\n",
        "  def __repr__(self):\n",
        "    print(id(self))\n",
        "    return f'Rectange({self._height},{self._width})'\n",
        "\n",
        "  @property\n",
        "  def width(self):\n",
        "    return self._width\n",
        "\n",
        "  @width.setter\n",
        "  def width(self, width):\n",
        "    if width < 0:\n",
        "      raise ValueError('Width must be positive dude!')\n",
        "    else:\n",
        "      self._width = width\n",
        "\n",
        "  @property\n",
        "  def height(self):\n",
        "    return self._height\n",
        "\n",
        "  @height.setter\n",
        "  def height(self, height):\n",
        "    if height < 0:\n",
        "      raise ValueError('height must be positive dude!')\n",
        "    else:\n",
        "      self._height = height"
      ],
      "execution_count": 117,
      "outputs": []
    },
    {
      "cell_type": "code",
      "metadata": {
        "id": "MPBGIKhb62c4"
      },
      "source": [
        "r = Rectangle(10, 20.4)\n"
      ],
      "execution_count": 118,
      "outputs": []
    },
    {
      "cell_type": "code",
      "metadata": {
        "colab": {
          "base_uri": "https://localhost:8080/",
          "height": 168
        },
        "id": "3bu2GXhD65Yk",
        "outputId": "d0e8e3d5-0f3f-4ae4-8882-4acc10caa689"
      },
      "source": [
        "r.height()"
      ],
      "execution_count": 121,
      "outputs": [
        {
          "output_type": "error",
          "ename": "TypeError",
          "evalue": "ignored",
          "traceback": [
            "\u001b[0;31m---------------------------------------------------------------------------\u001b[0m",
            "\u001b[0;31mTypeError\u001b[0m                                 Traceback (most recent call last)",
            "\u001b[0;32m<ipython-input-121-c39209417466>\u001b[0m in \u001b[0;36m<module>\u001b[0;34m()\u001b[0m\n\u001b[0;32m----> 1\u001b[0;31m \u001b[0mr\u001b[0m\u001b[0;34m.\u001b[0m\u001b[0mheight\u001b[0m\u001b[0;34m(\u001b[0m\u001b[0;34m)\u001b[0m\u001b[0;34m\u001b[0m\u001b[0;34m\u001b[0m\u001b[0m\n\u001b[0m",
            "\u001b[0;31mTypeError\u001b[0m: 'float' object is not callable"
          ]
        }
      ]
    },
    {
      "cell_type": "code",
      "metadata": {
        "colab": {
          "base_uri": "https://localhost:8080/",
          "height": 204
        },
        "id": "p2ymiMwX66SD",
        "outputId": "3ffa6f12-d351-4b0c-84de-73bec0b4388a"
      },
      "source": [
        "def area():\n",
        "  pass\n",
        "\n",
        "area(10)"
      ],
      "execution_count": 122,
      "outputs": [
        {
          "output_type": "error",
          "ename": "TypeError",
          "evalue": "ignored",
          "traceback": [
            "\u001b[0;31m---------------------------------------------------------------------------\u001b[0m",
            "\u001b[0;31mTypeError\u001b[0m                                 Traceback (most recent call last)",
            "\u001b[0;32m<ipython-input-122-807d61fe6d80>\u001b[0m in \u001b[0;36m<module>\u001b[0;34m()\u001b[0m\n\u001b[1;32m      2\u001b[0m   \u001b[0;32mpass\u001b[0m\u001b[0;34m\u001b[0m\u001b[0;34m\u001b[0m\u001b[0m\n\u001b[1;32m      3\u001b[0m \u001b[0;34m\u001b[0m\u001b[0m\n\u001b[0;32m----> 4\u001b[0;31m \u001b[0marea\u001b[0m\u001b[0;34m(\u001b[0m\u001b[0;36m10\u001b[0m\u001b[0;34m)\u001b[0m\u001b[0;34m\u001b[0m\u001b[0;34m\u001b[0m\u001b[0m\n\u001b[0m",
            "\u001b[0;31mTypeError\u001b[0m: area() takes 0 positional arguments but 1 was given"
          ]
        }
      ]
    },
    {
      "cell_type": "code",
      "metadata": {
        "colab": {
          "base_uri": "https://localhost:8080/",
          "height": 186
        },
        "id": "6kk6e7aV7TlV",
        "outputId": "39bdd6eb-9091-42c9-c33b-5651ac5ee0da"
      },
      "source": [
        "a = 1.0\n",
        "a()"
      ],
      "execution_count": 123,
      "outputs": [
        {
          "output_type": "error",
          "ename": "TypeError",
          "evalue": "ignored",
          "traceback": [
            "\u001b[0;31m---------------------------------------------------------------------------\u001b[0m",
            "\u001b[0;31mTypeError\u001b[0m                                 Traceback (most recent call last)",
            "\u001b[0;32m<ipython-input-123-2853e03be0e5>\u001b[0m in \u001b[0;36m<module>\u001b[0;34m()\u001b[0m\n\u001b[1;32m      1\u001b[0m \u001b[0ma\u001b[0m \u001b[0;34m=\u001b[0m \u001b[0;36m1.0\u001b[0m\u001b[0;34m\u001b[0m\u001b[0;34m\u001b[0m\u001b[0m\n\u001b[0;32m----> 2\u001b[0;31m \u001b[0ma\u001b[0m\u001b[0;34m(\u001b[0m\u001b[0;34m)\u001b[0m\u001b[0;34m\u001b[0m\u001b[0;34m\u001b[0m\u001b[0m\n\u001b[0m",
            "\u001b[0;31mTypeError\u001b[0m: 'float' object is not callable"
          ]
        }
      ]
    },
    {
      "cell_type": "code",
      "metadata": {
        "colab": {
          "base_uri": "https://localhost:8080/"
        },
        "id": "uynH3p217nUv",
        "outputId": "af9f6bea-6e93-450a-e061-86b985807814"
      },
      "source": [
        "class Rec:\n",
        "  def __init__(self, a, b):\n",
        "    self.a = a\n",
        "    self.b = b\n",
        "\n",
        "  def return_5(self):\n",
        "    return 5\n",
        "\n",
        "  def calculate_product(self):\n",
        "    return self.return_5() * self.a * self.b\n",
        "\n",
        "  def return_10():\n",
        "    return 10\n",
        "\n",
        "r = Rec(10, 20)\n",
        "r.calculate_product()"
      ],
      "execution_count": 124,
      "outputs": [
        {
          "output_type": "execute_result",
          "data": {
            "text/plain": [
              "1000"
            ]
          },
          "metadata": {},
          "execution_count": 124
        }
      ]
    },
    {
      "cell_type": "code",
      "metadata": {
        "colab": {
          "base_uri": "https://localhost:8080/"
        },
        "id": "zxeYXkE_8FcT",
        "outputId": "8dbf8110-6372-4274-bc93-dea4c930b795"
      },
      "source": [
        "Rec.return_10()"
      ],
      "execution_count": 125,
      "outputs": [
        {
          "output_type": "execute_result",
          "data": {
            "text/plain": [
              "10"
            ]
          },
          "metadata": {},
          "execution_count": 125
        }
      ]
    },
    {
      "cell_type": "code",
      "metadata": {
        "colab": {
          "base_uri": "https://localhost:8080/",
          "height": 168
        },
        "id": "cIQKH6DP8PYD",
        "outputId": "88fbc0fd-9a9e-44ef-b105-ffe58b7c795e"
      },
      "source": [
        "r.return_10()"
      ],
      "execution_count": 126,
      "outputs": [
        {
          "output_type": "error",
          "ename": "TypeError",
          "evalue": "ignored",
          "traceback": [
            "\u001b[0;31m---------------------------------------------------------------------------\u001b[0m",
            "\u001b[0;31mTypeError\u001b[0m                                 Traceback (most recent call last)",
            "\u001b[0;32m<ipython-input-126-1a1bead21f59>\u001b[0m in \u001b[0;36m<module>\u001b[0;34m()\u001b[0m\n\u001b[0;32m----> 1\u001b[0;31m \u001b[0mr\u001b[0m\u001b[0;34m.\u001b[0m\u001b[0mreturn_10\u001b[0m\u001b[0;34m(\u001b[0m\u001b[0;34m)\u001b[0m\u001b[0;34m\u001b[0m\u001b[0;34m\u001b[0m\u001b[0m\n\u001b[0m",
            "\u001b[0;31mTypeError\u001b[0m: return_10() takes 0 positional arguments but 1 was given"
          ]
        }
      ]
    },
    {
      "cell_type": "code",
      "metadata": {
        "id": "gKpSL_fg8Tl_"
      },
      "source": [
        "def outer():\n",
        "  i = 0\n",
        "  def counter():\n",
        "    nonlocal i\n",
        "    i += 1\n",
        "    return i\n",
        "  return counter"
      ],
      "execution_count": 127,
      "outputs": []
    },
    {
      "cell_type": "code",
      "metadata": {
        "colab": {
          "base_uri": "https://localhost:8080/"
        },
        "id": "tqTIEpyl9ecc",
        "outputId": "28a820a2-e79c-4777-bad1-bc7484406d22"
      },
      "source": [
        "counter = outer()\n",
        "counter()"
      ],
      "execution_count": 128,
      "outputs": [
        {
          "output_type": "execute_result",
          "data": {
            "text/plain": [
              "1"
            ]
          },
          "metadata": {},
          "execution_count": 128
        }
      ]
    },
    {
      "cell_type": "code",
      "metadata": {
        "colab": {
          "base_uri": "https://localhost:8080/"
        },
        "id": "QkXJBzC59hET",
        "outputId": "76ccc923-6cea-4f5f-cdc6-daf11120fd10"
      },
      "source": [
        "counter()\n",
        "counter()\n",
        "counter()\n",
        "counter()"
      ],
      "execution_count": 129,
      "outputs": [
        {
          "output_type": "execute_result",
          "data": {
            "text/plain": [
              "5"
            ]
          },
          "metadata": {},
          "execution_count": 129
        }
      ]
    },
    {
      "cell_type": "code",
      "metadata": {
        "colab": {
          "base_uri": "https://localhost:8080/"
        },
        "id": "jt6qL-fD9lCy",
        "outputId": "ae03b75a-a0e3-4bf3-b6f2-081fce916663"
      },
      "source": [
        "i = \"school\"\n",
        "def outer():\n",
        "  i = \"rohan\"\n",
        "  def counter():\n",
        "    i = \"sohan\"\n",
        "    def inner():\n",
        "      nonlocal i\n",
        "      print(i)\n",
        "    inner()\n",
        "  counter()\n",
        "\n",
        "outer()"
      ],
      "execution_count": 130,
      "outputs": [
        {
          "output_type": "stream",
          "name": "stdout",
          "text": [
            "sohan\n"
          ]
        }
      ]
    },
    {
      "cell_type": "code",
      "metadata": {
        "id": "2MQ2AS4x97Lx"
      },
      "source": [
        ""
      ],
      "execution_count": null,
      "outputs": []
    }
  ]
}