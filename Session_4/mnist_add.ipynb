{
  "nbformat": 4,
  "nbformat_minor": 0,
  "metadata": {
    "interpreter": {
      "hash": "dad7bd3c2fe54d1945d9dd1e1f6e10c6ddc91253bda8e79c84d666b43403f32c"
    },
    "kernelspec": {
      "display_name": "Python 3.7.4 64-bit ('swaroop': conda)",
      "name": "python3"
    },
    "language_info": {
      "codemirror_mode": {
        "name": "ipython",
        "version": 3
      },
      "file_extension": ".py",
      "mimetype": "text/x-python",
      "name": "python",
      "nbconvert_exporter": "python",
      "pygments_lexer": "ipython3",
      "version": "3.7.4"
    },
    "orig_nbformat": 4,
    "colab": {
      "name": "mnist_add.ipynb",
      "provenance": [],
      "collapsed_sections": []
    },
    "accelerator": "GPU"
  },
  "cells": [
    {
      "cell_type": "markdown",
      "metadata": {
        "id": "hicNtTH1fYRF"
      },
      "source": [
        "# **Import Libraries**"
      ]
    },
    {
      "cell_type": "code",
      "metadata": {
        "id": "2S5BZcLGemgM"
      },
      "source": [
        "import matplotlib.pyplot as plt\n",
        "from __future__ import print_function\n",
        "import torch\n",
        "import torch.nn as nn\n",
        "import torch.optim as optim\n",
        "from torch.utils.data import DataLoader, Dataset, random_split\n",
        "import torchvision\n",
        "import torchvision.transforms as transforms\n",
        "import torch.nn.functional as F\n",
        "from torchsummary import summary"
      ],
      "execution_count": 1,
      "outputs": []
    },
    {
      "cell_type": "markdown",
      "metadata": {
        "id": "QMrgg8ZauZ7B"
      },
      "source": [
        "#**Model**\n",
        "### Here we create a sequential network of convolution and linear layers to predict the mnist digit & the sum of predicted digit & random number\n",
        "\n"
      ]
    },
    {
      "cell_type": "code",
      "metadata": {
        "id": "ggGs1sLNee7v"
      },
      "source": [
        "class Net(nn.Module):\n",
        "    def __init__(self):\n",
        "        super(Net, self).__init__()\n",
        "        \n",
        "        #layer1\n",
        "        self.conv1 = nn.Sequential(nn.Conv2d(1, 16, 3, padding=1), \n",
        "                                   nn.BatchNorm2d(16),\n",
        "                                   nn.ReLU(),\n",
        "                                   nn.Dropout(0.1),\n",
        "                                   nn.Conv2d(16, 16, 3, padding=1),\n",
        "                                   nn.BatchNorm2d(16),\n",
        "                                   nn.ReLU(),\n",
        "                                   nn.Dropout(0.1),\n",
        "                                   nn.MaxPool2d(2, 2))\n",
        "        #layer2\n",
        "        self.conv2 = nn.Sequential(nn.Conv2d(16, 16, 3, padding=1),\n",
        "                                   nn.BatchNorm2d(16),\n",
        "                                   nn.ReLU(),\n",
        "                                   nn.Dropout(0.1),\n",
        "                                   nn.Conv2d(16, 16, 3, padding=1),\n",
        "                                   nn.BatchNorm2d(16),\n",
        "                                   nn.ReLU(),\n",
        "                                   nn.Dropout(0.1),\n",
        "                                   nn.Conv2d(16, 16, 3, padding=1),\n",
        "                                   nn.BatchNorm2d(16),\n",
        "                                   nn.ReLU(),\n",
        "                                   nn.Dropout(0.1),\n",
        "                                   nn.MaxPool2d(2, 2))\n",
        "        #layer2\n",
        "        self.conv3 =  nn.Sequential(nn.Conv2d(16, 16, 3),\n",
        "                                    nn.BatchNorm2d(16),\n",
        "                                    nn.ReLU(),\n",
        "                                    nn.Dropout(0.1),\n",
        "                                    nn.Conv2d(16, 16, 3),\n",
        "                                    nn.BatchNorm2d(16),\n",
        "                                    nn.ReLU(),\n",
        "                                    nn.Conv2d(16, 32, 3))\n",
        "        \n",
        "        self.avg_pool = nn.AdaptiveAvgPool2d((1, 1))\n",
        "        self.fc = nn.Linear(32, 10) #This layer corresponds mnist digit prediction\n",
        "        \n",
        "        #Output for mnist digit prediction\n",
        "        self.sm = nn.Softmax(dim=-1)\n",
        "        self.adder = nn.Sequential(  #Linear network which accepts two numbers(mnist predicted output and random number bw 0 to 9)\n",
        "            nn.Linear(20, 64), \n",
        "            nn.ReLU(inplace=True), \n",
        "            nn.Linear(64, 64), \n",
        "            nn.ReLU(inplace=True), \n",
        "            nn.Linear(64, 19) # Onehot encoded output for sum of two numbers\n",
        "        )\n",
        "       \n",
        "    def forward(self, x, inp_numbers):\n",
        "        output = self.conv1(x)\n",
        "        output = self.conv2(output)\n",
        "        output = self.conv3(output)\n",
        "        output = self.avg_pool(output)\n",
        "        output = output.view(output.size(0), -1)\n",
        "        \n",
        "        pred_digit = self.fc(output) #This layer outputs the predicted digit for mnist image\n",
        "        \n",
        "        pred_digit_softmaxed = self.sm(pred_digit)\n",
        "        pred_sum = self.adder(torch.cat([pred_digit_softmaxed, F.one_hot(inp_numbers, num_classes=10)], dim=-1)) #Concatenate one hot encoded mnist digit & random rumber\n",
        "\n",
        "        return pred_digit, pred_sum\n"
      ],
      "execution_count": 2,
      "outputs": []
    },
    {
      "cell_type": "code",
      "metadata": {
        "colab": {
          "base_uri": "https://localhost:8080/"
        },
        "id": "HlkZLh3Gwwur",
        "outputId": "42472d42-399b-4981-8954-f67d59c501c0"
      },
      "source": [
        "print(Net())"
      ],
      "execution_count": 3,
      "outputs": [
        {
          "output_type": "stream",
          "name": "stdout",
          "text": [
            "Net(\n",
            "  (conv1): Sequential(\n",
            "    (0): Conv2d(1, 16, kernel_size=(3, 3), stride=(1, 1), padding=(1, 1))\n",
            "    (1): BatchNorm2d(16, eps=1e-05, momentum=0.1, affine=True, track_running_stats=True)\n",
            "    (2): ReLU()\n",
            "    (3): Dropout(p=0.1, inplace=False)\n",
            "    (4): Conv2d(16, 16, kernel_size=(3, 3), stride=(1, 1), padding=(1, 1))\n",
            "    (5): BatchNorm2d(16, eps=1e-05, momentum=0.1, affine=True, track_running_stats=True)\n",
            "    (6): ReLU()\n",
            "    (7): Dropout(p=0.1, inplace=False)\n",
            "    (8): MaxPool2d(kernel_size=2, stride=2, padding=0, dilation=1, ceil_mode=False)\n",
            "  )\n",
            "  (conv2): Sequential(\n",
            "    (0): Conv2d(16, 16, kernel_size=(3, 3), stride=(1, 1), padding=(1, 1))\n",
            "    (1): BatchNorm2d(16, eps=1e-05, momentum=0.1, affine=True, track_running_stats=True)\n",
            "    (2): ReLU()\n",
            "    (3): Dropout(p=0.1, inplace=False)\n",
            "    (4): Conv2d(16, 16, kernel_size=(3, 3), stride=(1, 1), padding=(1, 1))\n",
            "    (5): BatchNorm2d(16, eps=1e-05, momentum=0.1, affine=True, track_running_stats=True)\n",
            "    (6): ReLU()\n",
            "    (7): Dropout(p=0.1, inplace=False)\n",
            "    (8): Conv2d(16, 16, kernel_size=(3, 3), stride=(1, 1), padding=(1, 1))\n",
            "    (9): BatchNorm2d(16, eps=1e-05, momentum=0.1, affine=True, track_running_stats=True)\n",
            "    (10): ReLU()\n",
            "    (11): Dropout(p=0.1, inplace=False)\n",
            "    (12): MaxPool2d(kernel_size=2, stride=2, padding=0, dilation=1, ceil_mode=False)\n",
            "  )\n",
            "  (conv3): Sequential(\n",
            "    (0): Conv2d(16, 16, kernel_size=(3, 3), stride=(1, 1))\n",
            "    (1): BatchNorm2d(16, eps=1e-05, momentum=0.1, affine=True, track_running_stats=True)\n",
            "    (2): ReLU()\n",
            "    (3): Dropout(p=0.1, inplace=False)\n",
            "    (4): Conv2d(16, 16, kernel_size=(3, 3), stride=(1, 1))\n",
            "    (5): BatchNorm2d(16, eps=1e-05, momentum=0.1, affine=True, track_running_stats=True)\n",
            "    (6): ReLU()\n",
            "    (7): Conv2d(16, 32, kernel_size=(3, 3), stride=(1, 1))\n",
            "  )\n",
            "  (avg_pool): AdaptiveAvgPool2d(output_size=(1, 1))\n",
            "  (fc): Linear(in_features=32, out_features=10, bias=True)\n",
            "  (sm): Softmax(dim=-1)\n",
            "  (adder): Sequential(\n",
            "    (0): Linear(in_features=20, out_features=64, bias=True)\n",
            "    (1): ReLU(inplace=True)\n",
            "    (2): Linear(in_features=64, out_features=64, bias=True)\n",
            "    (3): ReLU(inplace=True)\n",
            "    (4): Linear(in_features=64, out_features=19, bias=True)\n",
            "  )\n",
            ")\n"
          ]
        }
      ]
    },
    {
      "cell_type": "markdown",
      "metadata": {
        "id": "M993lUV9xAc_"
      },
      "source": [
        "#**Dataset Class**\n",
        "Lets create MNISTWrapper dataset class that should override 3 methods:  \n",
        "1. **\\__init__()**: Initialization like reading image paths\n",
        "2. **\\__len__()**: Should return the number of items\n",
        "3. **\\__getitem__(i)**: Should return $i^{th}$ data-point\n"
      ]
    },
    {
      "cell_type": "code",
      "metadata": {
        "id": "5ICZHVbQemgQ"
      },
      "source": [
        "class MNISTWrapper(Dataset):\n",
        "    def __init__(self, dataset, tfms):\n",
        "        self.dataset = dataset\n",
        "        self.tfms = tfms\n",
        "\n",
        "    def __len__(self):\n",
        "        return len(self.dataset)\n",
        "\n",
        "    def __getitem__(self, idx):\n",
        "        img, label = self.dataset[idx]\n",
        "        rand_number = torch.randint(0, 10, (1,1)).long()\n",
        "        actual_sum = label + rand_number\n",
        "        return img, label, rand_number.item(), actual_sum.item()"
      ],
      "execution_count": 4,
      "outputs": []
    },
    {
      "cell_type": "markdown",
      "metadata": {
        "id": "KIyWxgDwxyoQ"
      },
      "source": [
        "# **Data Transformations and Test/Train DataLoaders**\n",
        "A Dataloader is a wrapper around a Dataset that puts images in a batch and lets us iterate over the batches. A Dataloader can be created by just passing our dataset to its contructor.\n",
        "\n",
        "Additionally, it takes the following arguments:\n",
        "\n",
        "batch_size: How many data-points to put together in a batch\n",
        "shuffle: Whether to randomly shuffle the data order. Its important that we set this to True for the training set, and False for the test set.\n",
        "num_workers: How many processes to spawn in loading the data. This can become a bottleneck if your GPU is fast enough. Set this to the number of cores / processors available."
      ]
    },
    {
      "cell_type": "code",
      "metadata": {
        "id": "jpR-34CoemgR"
      },
      "source": [
        "def get_training_dataloader(mean, std, batch_size=16, num_workers=2, shuffle=True):\n",
        "    transform_train = transforms.Compose([\n",
        "        transforms.RandomRotation(5),\n",
        "        transforms.Resize((28, 28)),\n",
        "        transforms.ToTensor(),\n",
        "        transforms.Normalize(mean, std)\n",
        "    ])\n",
        "    #download mnist train dataset\n",
        "    mnist_training = torchvision.datasets.MNIST(\n",
        "        root='./mnist_data', download=True, transform=transform_train, train=True)\n",
        "    mnist_training = MNISTWrapper(mnist_training, transform_train)\n",
        "    #create dataloader\n",
        "    mnist_training_loader = DataLoader(\n",
        "        mnist_training, shuffle=shuffle, num_workers=num_workers, batch_size=batch_size)\n",
        "\n",
        "    return mnist_training_loader"
      ],
      "execution_count": 5,
      "outputs": []
    },
    {
      "cell_type": "code",
      "metadata": {
        "id": "XX-EUKqeemgR"
      },
      "source": [
        "def get_test_dataloader(mean, std, batch_size=16, num_workers=2, shuffle=True):\n",
        "    transform_test = transforms.Compose([\n",
        "        transforms.Resize((28, 28)),\n",
        "        transforms.ToTensor(),\n",
        "        transforms.Normalize(mean, std)\n",
        "    ])\n",
        "     #download mnist test dataset\n",
        "    mnist_test = torchvision.datasets.MNIST(\n",
        "        root='./mnist_data', download=True, transform=transform_test, train=False)\n",
        "    mnist_test = MNISTWrapper(mnist_test, transform_test)\n",
        "    #create dataloader\n",
        "    mnist_test_loader = DataLoader(\n",
        "        mnist_test, shuffle=shuffle, num_workers=num_workers, batch_size=batch_size)\n",
        "\n",
        "    return mnist_test_loader"
      ],
      "execution_count": 6,
      "outputs": []
    },
    {
      "cell_type": "markdown",
      "metadata": {
        "id": "8FS4LhQ1ybcb"
      },
      "source": [
        "#**Train function**"
      ]
    },
    {
      "cell_type": "code",
      "metadata": {
        "id": "CCRKZrB6emgS"
      },
      "source": [
        "def train(net, optimizer, loss_function, mnist_training_loader, devices, epoch):\n",
        "    net.train()\n",
        "    for batch_index, (images, labels, rand_numbers, actual_sums) in enumerate(mnist_training_loader):\n",
        "        #copy the data to cuda\n",
        "        labels = labels.to(f\"cuda:{devices[0]}\")\n",
        "        images = images.to(f\"cuda:{devices[0]}\")\n",
        "        rand_numbers = rand_numbers.to(f\"cuda:{devices[0]}\")\n",
        "        actual_sums = actual_sums.to(f\"cuda:{devices[0]}\")\n",
        "\n",
        "        # Init\n",
        "        optimizer.zero_grad()\n",
        "\n",
        "        #predict\n",
        "        pred_digits, pred_sums = net(images, rand_numbers)\n",
        "\n",
        "        # calculate loss for digit prediction\n",
        "        loss_pred = loss_function(pred_digits, labels).mean()\n",
        "\n",
        "        # calculate loss for sum of two numbers\n",
        "        loss_sum = loss_function(pred_sums, actual_sums).mean()\n",
        "        \n",
        "        #final loss calculated by adding prediction loss & sum loss\n",
        "        loss = loss_pred + loss_sum\n",
        "\n",
        "        # Backpropagation\n",
        "        loss.backward()\n",
        "        optimizer.step()\n",
        "\n",
        "        if batch_index % 10 == 0:\n",
        "            print('Training Epoch: {epoch} [{batch_index}/{total_batches}]\\tLoss: {:0.4f}\\tLR: {:0.6f}'.format(\n",
        "                loss.item(),\n",
        "                optimizer.param_groups[0]['lr'],\n",
        "                epoch=epoch,\n",
        "                batch_index=batch_index,\n",
        "                total_batches=len(mnist_training_loader)\n",
        "            ))"
      ],
      "execution_count": 7,
      "outputs": []
    },
    {
      "cell_type": "markdown",
      "metadata": {
        "id": "DqEbGriHzlPp"
      },
      "source": [
        "# **Model evaluation**"
      ]
    },
    {
      "cell_type": "code",
      "metadata": {
        "id": "pr4_H1N1emgT"
      },
      "source": [
        "@torch.no_grad()\n",
        "def eval_training(net, loss_function, mnist_test_loader, devices, epoch=0, tb=True):\n",
        "    net.eval()\n",
        "\n",
        "    test_loss = 0.0  # cost function error\n",
        "    correct_digits = 0.0\n",
        "    correct_sums = 0.0\n",
        "\n",
        "    for (images, labels, rand_numbers, actual_sums) in mnist_test_loader:\n",
        "\n",
        "        images = images.to(f\"cuda:{devices[0]}\")\n",
        "        labels = labels.to(f\"cuda:{devices[0]}\")\n",
        "        rand_numbers = rand_numbers.to(f\"cuda:{devices[0]}\")\n",
        "        actual_sums = actual_sums.to(f\"cuda:{devices[0]}\")\n",
        "\n",
        "        pred_digits, pred_sums = net(images, rand_numbers)\n",
        "        loss_pred = loss_function(pred_digits, labels).mean()\n",
        "        loss_sum = loss_function(pred_sums, actual_sums).mean()\n",
        "        loss = loss_pred + loss_sum\n",
        "\n",
        "        test_loss += loss.item()\n",
        "        _, digit_preds = pred_digits.max(1)\n",
        "        correct_digits += digit_preds.eq(labels).sum()\n",
        "        _, sum_preds = pred_sums.max(1)\n",
        "        correct_sums += sum_preds.eq(actual_sums).sum()\n",
        "\n",
        "    print('Evaluating Network.....')\n",
        "    print('Test set: Epoch: {}, Average loss: {:.4f}, Digit Accuracy: {:.4f}, Sum Accuracy: {:.4f}'.format(\n",
        "        epoch,\n",
        "        test_loss / len(mnist_test_loader.dataset),\n",
        "        correct_digits.float() / len(mnist_test_loader.dataset),\n",
        "        correct_sums.float() / len(mnist_test_loader.dataset),\n",
        "    ))\n",
        "    print()\n",
        "\n",
        "    return ((correct_digits.float() + correct_sums.float()) / 2) / len(mnist_test_loader.dataset)"
      ],
      "execution_count": 8,
      "outputs": []
    },
    {
      "cell_type": "markdown",
      "metadata": {
        "id": "LlM92mvyy8Nw"
      },
      "source": [
        "#**Data transformations on training set**"
      ]
    },
    {
      "cell_type": "code",
      "metadata": {
        "colab": {
          "base_uri": "https://localhost:8080/"
        },
        "id": "HXo6IfDuemgT",
        "outputId": "708c97ef-2133-43c2-a262-2e82501c31ee"
      },
      "source": [
        "transform_train = transforms.Compose([\n",
        "    transforms.RandomRotation(5),\n",
        "    transforms.Resize((28, 28)),\n",
        "    transforms.ToTensor(),\n",
        "    transforms.Normalize((0.1307), (0.3081))\n",
        "])\n",
        "mnist_training = torchvision.datasets.MNIST(\n",
        "    root='./mnist_data', download=True, transform=transform_train, train=True)\n",
        "mnist_training = MNISTWrapper(mnist_training, transform_train)"
      ],
      "execution_count": 9,
      "outputs": [
        {
          "output_type": "stream",
          "name": "stderr",
          "text": [
            "/usr/local/lib/python3.7/dist-packages/torchvision/datasets/mnist.py:498: UserWarning: The given NumPy array is not writeable, and PyTorch does not support non-writeable tensors. This means you can write to the underlying (supposedly non-writeable) NumPy array using the tensor. You may want to copy the array to protect its data or make it writeable before converting it to a tensor. This type of warning will be suppressed for the rest of this program. (Triggered internally at  /pytorch/torch/csrc/utils/tensor_numpy.cpp:180.)\n",
            "  return torch.from_numpy(parsed.astype(m[2], copy=False)).view(*s)\n"
          ]
        }
      ]
    },
    {
      "cell_type": "markdown",
      "metadata": {
        "id": "4qvCj4u8zEiu"
      },
      "source": [
        "# **Lets set the device and train the model**"
      ]
    },
    {
      "cell_type": "code",
      "metadata": {
        "colab": {
          "base_uri": "https://localhost:8080/"
        },
        "id": "3lNlxoRxemgU",
        "outputId": "860163b1-91f2-4f7a-cdec-52e3a5104a25"
      },
      "source": [
        "devices = [0, 1]\n",
        "net = Net().to(f\"cuda:{devices[0]}\")\n",
        "\n",
        "#train dataloader\n",
        "mnist_training_loader = get_training_dataloader(\n",
        "    (0.1307),\n",
        "    (0.3081),\n",
        "    num_workers=4,\n",
        "    batch_size=1024,\n",
        "    shuffle=True\n",
        ")\n",
        "\n",
        "#test dataloader\n",
        "mnist_test_loader = get_test_dataloader(\n",
        "    (0.1307),\n",
        "    (0.3081),\n",
        "    num_workers=4,\n",
        "    batch_size=1024,\n",
        "    shuffle=False\n",
        ")\n",
        "\n",
        "#calculate loss \n",
        "loss_function = nn.CrossEntropyLoss()\n",
        "optimizer = optim.SGD(net.parameters(), lr=1e-2,\n",
        "                        momentum=0.9, weight_decay=5e-4)\n",
        "\n",
        "best_acc = 0\n",
        "for epoch in range(1, 20 + 1):\n",
        "    train(net, optimizer, loss_function, mnist_training_loader, devices, epoch)\n",
        "    acc = eval_training(net, loss_function, mnist_test_loader, devices, epoch)\n",
        "    if acc > best_acc:\n",
        "        best_acc = acc"
      ],
      "execution_count": 10,
      "outputs": [
        {
          "output_type": "stream",
          "name": "stderr",
          "text": [
            "/usr/local/lib/python3.7/dist-packages/torch/utils/data/dataloader.py:481: UserWarning: This DataLoader will create 4 worker processes in total. Our suggested max number of worker in current system is 2, which is smaller than what this DataLoader is going to create. Please be aware that excessive worker creation might get DataLoader running slow or even freeze, lower the worker number to avoid potential slowness/freeze if necessary.\n",
            "  cpuset_checked))\n",
            "/usr/local/lib/python3.7/dist-packages/torch/nn/functional.py:718: UserWarning: Named tensors and all their associated APIs are an experimental feature and subject to change. Please do not use them for anything important until they are released as stable. (Triggered internally at  /pytorch/c10/core/TensorImpl.h:1156.)\n",
            "  return torch.max_pool2d(input, kernel_size, stride, padding, dilation, ceil_mode)\n"
          ]
        },
        {
          "output_type": "stream",
          "name": "stdout",
          "text": [
            "Training Epoch: 1 [0/59]\tLoss: 5.2718\tLR: 0.010000\n",
            "Training Epoch: 1 [10/59]\tLoss: 5.0588\tLR: 0.010000\n",
            "Training Epoch: 1 [20/59]\tLoss: 4.6491\tLR: 0.010000\n",
            "Training Epoch: 1 [30/59]\tLoss: 4.1022\tLR: 0.010000\n",
            "Training Epoch: 1 [40/59]\tLoss: 3.7026\tLR: 0.010000\n",
            "Training Epoch: 1 [50/59]\tLoss: 3.4171\tLR: 0.010000\n",
            "Evaluating Network.....\n",
            "Test set: Epoch: 1, Average loss: 0.0033, Digit Accuracy: 0.9129, Sum Accuracy: 0.0981\n",
            "\n",
            "Training Epoch: 2 [0/59]\tLoss: 3.2545\tLR: 0.010000\n",
            "Training Epoch: 2 [10/59]\tLoss: 3.1639\tLR: 0.010000\n",
            "Training Epoch: 2 [20/59]\tLoss: 3.1006\tLR: 0.010000\n",
            "Training Epoch: 2 [30/59]\tLoss: 3.0736\tLR: 0.010000\n",
            "Training Epoch: 2 [40/59]\tLoss: 3.0388\tLR: 0.010000\n",
            "Training Epoch: 2 [50/59]\tLoss: 3.0358\tLR: 0.010000\n",
            "Evaluating Network.....\n",
            "Test set: Epoch: 2, Average loss: 0.0030, Digit Accuracy: 0.9501, Sum Accuracy: 0.0985\n",
            "\n",
            "Training Epoch: 3 [0/59]\tLoss: 2.9929\tLR: 0.010000\n",
            "Training Epoch: 3 [10/59]\tLoss: 2.9617\tLR: 0.010000\n",
            "Training Epoch: 3 [20/59]\tLoss: 2.9392\tLR: 0.010000\n",
            "Training Epoch: 3 [30/59]\tLoss: 2.9451\tLR: 0.010000\n",
            "Training Epoch: 3 [40/59]\tLoss: 2.9159\tLR: 0.010000\n",
            "Training Epoch: 3 [50/59]\tLoss: 2.9350\tLR: 0.010000\n",
            "Evaluating Network.....\n",
            "Test set: Epoch: 3, Average loss: 0.0029, Digit Accuracy: 0.9757, Sum Accuracy: 0.1033\n",
            "\n",
            "Training Epoch: 4 [0/59]\tLoss: 2.9123\tLR: 0.010000\n",
            "Training Epoch: 4 [10/59]\tLoss: 2.8741\tLR: 0.010000\n",
            "Training Epoch: 4 [20/59]\tLoss: 2.8998\tLR: 0.010000\n",
            "Training Epoch: 4 [30/59]\tLoss: 2.8998\tLR: 0.010000\n",
            "Training Epoch: 4 [40/59]\tLoss: 2.8488\tLR: 0.010000\n",
            "Training Epoch: 4 [50/59]\tLoss: 2.8313\tLR: 0.010000\n",
            "Evaluating Network.....\n",
            "Test set: Epoch: 4, Average loss: 0.0028, Digit Accuracy: 0.9782, Sum Accuracy: 0.0999\n",
            "\n",
            "Training Epoch: 5 [0/59]\tLoss: 2.8716\tLR: 0.010000\n",
            "Training Epoch: 5 [10/59]\tLoss: 2.8457\tLR: 0.010000\n",
            "Training Epoch: 5 [20/59]\tLoss: 2.8673\tLR: 0.010000\n",
            "Training Epoch: 5 [30/59]\tLoss: 2.8415\tLR: 0.010000\n",
            "Training Epoch: 5 [40/59]\tLoss: 2.8385\tLR: 0.010000\n",
            "Training Epoch: 5 [50/59]\tLoss: 2.8405\tLR: 0.010000\n",
            "Evaluating Network.....\n",
            "Test set: Epoch: 5, Average loss: 0.0028, Digit Accuracy: 0.9815, Sum Accuracy: 0.0991\n",
            "\n",
            "Training Epoch: 6 [0/59]\tLoss: 2.8075\tLR: 0.010000\n",
            "Training Epoch: 6 [10/59]\tLoss: 2.7998\tLR: 0.010000\n",
            "Training Epoch: 6 [20/59]\tLoss: 2.8023\tLR: 0.010000\n",
            "Training Epoch: 6 [30/59]\tLoss: 2.8118\tLR: 0.010000\n",
            "Training Epoch: 6 [40/59]\tLoss: 2.8115\tLR: 0.010000\n",
            "Training Epoch: 6 [50/59]\tLoss: 2.7761\tLR: 0.010000\n",
            "Evaluating Network.....\n",
            "Test set: Epoch: 6, Average loss: 0.0027, Digit Accuracy: 0.9845, Sum Accuracy: 0.0990\n",
            "\n",
            "Training Epoch: 7 [0/59]\tLoss: 2.7446\tLR: 0.010000\n",
            "Training Epoch: 7 [10/59]\tLoss: 2.7354\tLR: 0.010000\n",
            "Training Epoch: 7 [20/59]\tLoss: 2.7439\tLR: 0.010000\n",
            "Training Epoch: 7 [30/59]\tLoss: 2.7250\tLR: 0.010000\n",
            "Training Epoch: 7 [40/59]\tLoss: 2.6828\tLR: 0.010000\n",
            "Training Epoch: 7 [50/59]\tLoss: 2.7061\tLR: 0.010000\n",
            "Evaluating Network.....\n",
            "Test set: Epoch: 7, Average loss: 0.0026, Digit Accuracy: 0.9859, Sum Accuracy: 0.1437\n",
            "\n",
            "Training Epoch: 8 [0/59]\tLoss: 2.6718\tLR: 0.010000\n",
            "Training Epoch: 8 [10/59]\tLoss: 2.6158\tLR: 0.010000\n",
            "Training Epoch: 8 [20/59]\tLoss: 2.5985\tLR: 0.010000\n",
            "Training Epoch: 8 [30/59]\tLoss: 2.5859\tLR: 0.010000\n",
            "Training Epoch: 8 [40/59]\tLoss: 2.5720\tLR: 0.010000\n",
            "Training Epoch: 8 [50/59]\tLoss: 2.5261\tLR: 0.010000\n",
            "Evaluating Network.....\n",
            "Test set: Epoch: 8, Average loss: 0.0025, Digit Accuracy: 0.9885, Sum Accuracy: 0.2216\n",
            "\n",
            "Training Epoch: 9 [0/59]\tLoss: 2.5084\tLR: 0.010000\n",
            "Training Epoch: 9 [10/59]\tLoss: 2.4333\tLR: 0.010000\n",
            "Training Epoch: 9 [20/59]\tLoss: 2.3897\tLR: 0.010000\n",
            "Training Epoch: 9 [30/59]\tLoss: 2.3802\tLR: 0.010000\n",
            "Training Epoch: 9 [40/59]\tLoss: 2.3239\tLR: 0.010000\n",
            "Training Epoch: 9 [50/59]\tLoss: 2.2761\tLR: 0.010000\n",
            "Evaluating Network.....\n",
            "Test set: Epoch: 9, Average loss: 0.0022, Digit Accuracy: 0.9854, Sum Accuracy: 0.3605\n",
            "\n",
            "Training Epoch: 10 [0/59]\tLoss: 2.2303\tLR: 0.010000\n",
            "Training Epoch: 10 [10/59]\tLoss: 2.1972\tLR: 0.010000\n",
            "Training Epoch: 10 [20/59]\tLoss: 2.1696\tLR: 0.010000\n",
            "Training Epoch: 10 [30/59]\tLoss: 2.0980\tLR: 0.010000\n",
            "Training Epoch: 10 [40/59]\tLoss: 2.1071\tLR: 0.010000\n",
            "Training Epoch: 10 [50/59]\tLoss: 2.0483\tLR: 0.010000\n",
            "Evaluating Network.....\n",
            "Test set: Epoch: 10, Average loss: 0.0020, Digit Accuracy: 0.9902, Sum Accuracy: 0.4110\n",
            "\n",
            "Training Epoch: 11 [0/59]\tLoss: 2.0070\tLR: 0.010000\n",
            "Training Epoch: 11 [10/59]\tLoss: 1.9880\tLR: 0.010000\n",
            "Training Epoch: 11 [20/59]\tLoss: 1.9384\tLR: 0.010000\n",
            "Training Epoch: 11 [30/59]\tLoss: 1.8808\tLR: 0.010000\n",
            "Training Epoch: 11 [40/59]\tLoss: 1.9044\tLR: 0.010000\n",
            "Training Epoch: 11 [50/59]\tLoss: 1.8214\tLR: 0.010000\n",
            "Evaluating Network.....\n",
            "Test set: Epoch: 11, Average loss: 0.0018, Digit Accuracy: 0.9900, Sum Accuracy: 0.5553\n",
            "\n",
            "Training Epoch: 12 [0/59]\tLoss: 1.8179\tLR: 0.010000\n",
            "Training Epoch: 12 [10/59]\tLoss: 1.7585\tLR: 0.010000\n",
            "Training Epoch: 12 [20/59]\tLoss: 1.7466\tLR: 0.010000\n",
            "Training Epoch: 12 [30/59]\tLoss: 1.7025\tLR: 0.010000\n",
            "Training Epoch: 12 [40/59]\tLoss: 1.6444\tLR: 0.010000\n",
            "Training Epoch: 12 [50/59]\tLoss: 1.6498\tLR: 0.010000\n",
            "Evaluating Network.....\n",
            "Test set: Epoch: 12, Average loss: 0.0016, Digit Accuracy: 0.9907, Sum Accuracy: 0.5490\n",
            "\n",
            "Training Epoch: 13 [0/59]\tLoss: 1.6066\tLR: 0.010000\n",
            "Training Epoch: 13 [10/59]\tLoss: 1.5918\tLR: 0.010000\n",
            "Training Epoch: 13 [20/59]\tLoss: 1.5769\tLR: 0.010000\n",
            "Training Epoch: 13 [30/59]\tLoss: 1.5404\tLR: 0.010000\n",
            "Training Epoch: 13 [40/59]\tLoss: 1.5444\tLR: 0.010000\n",
            "Training Epoch: 13 [50/59]\tLoss: 1.5000\tLR: 0.010000\n",
            "Evaluating Network.....\n",
            "Test set: Epoch: 13, Average loss: 0.0014, Digit Accuracy: 0.9898, Sum Accuracy: 0.6692\n",
            "\n",
            "Training Epoch: 14 [0/59]\tLoss: 1.4599\tLR: 0.010000\n",
            "Training Epoch: 14 [10/59]\tLoss: 1.4546\tLR: 0.010000\n",
            "Training Epoch: 14 [20/59]\tLoss: 1.4094\tLR: 0.010000\n",
            "Training Epoch: 14 [30/59]\tLoss: 1.3780\tLR: 0.010000\n",
            "Training Epoch: 14 [40/59]\tLoss: 1.4038\tLR: 0.010000\n",
            "Training Epoch: 14 [50/59]\tLoss: 1.3300\tLR: 0.010000\n",
            "Evaluating Network.....\n",
            "Test set: Epoch: 14, Average loss: 0.0013, Digit Accuracy: 0.9901, Sum Accuracy: 0.7566\n",
            "\n",
            "Training Epoch: 15 [0/59]\tLoss: 1.3446\tLR: 0.010000\n",
            "Training Epoch: 15 [10/59]\tLoss: 1.2909\tLR: 0.010000\n",
            "Training Epoch: 15 [20/59]\tLoss: 1.3028\tLR: 0.010000\n",
            "Training Epoch: 15 [30/59]\tLoss: 1.2549\tLR: 0.010000\n",
            "Training Epoch: 15 [40/59]\tLoss: 1.2276\tLR: 0.010000\n",
            "Training Epoch: 15 [50/59]\tLoss: 1.2246\tLR: 0.010000\n",
            "Evaluating Network.....\n",
            "Test set: Epoch: 15, Average loss: 0.0012, Digit Accuracy: 0.9908, Sum Accuracy: 0.8420\n",
            "\n",
            "Training Epoch: 16 [0/59]\tLoss: 1.1972\tLR: 0.010000\n",
            "Training Epoch: 16 [10/59]\tLoss: 1.2107\tLR: 0.010000\n",
            "Training Epoch: 16 [20/59]\tLoss: 1.1799\tLR: 0.010000\n",
            "Training Epoch: 16 [30/59]\tLoss: 1.1183\tLR: 0.010000\n",
            "Training Epoch: 16 [40/59]\tLoss: 1.1215\tLR: 0.010000\n",
            "Training Epoch: 16 [50/59]\tLoss: 1.1134\tLR: 0.010000\n",
            "Evaluating Network.....\n",
            "Test set: Epoch: 16, Average loss: 0.0011, Digit Accuracy: 0.9919, Sum Accuracy: 0.9192\n",
            "\n",
            "Training Epoch: 17 [0/59]\tLoss: 1.1059\tLR: 0.010000\n",
            "Training Epoch: 17 [10/59]\tLoss: 1.0496\tLR: 0.010000\n",
            "Training Epoch: 17 [20/59]\tLoss: 1.0558\tLR: 0.010000\n",
            "Training Epoch: 17 [30/59]\tLoss: 1.0330\tLR: 0.010000\n",
            "Training Epoch: 17 [40/59]\tLoss: 1.0399\tLR: 0.010000\n",
            "Training Epoch: 17 [50/59]\tLoss: 1.0066\tLR: 0.010000\n",
            "Evaluating Network.....\n",
            "Test set: Epoch: 17, Average loss: 0.0010, Digit Accuracy: 0.9909, Sum Accuracy: 0.9596\n",
            "\n",
            "Training Epoch: 18 [0/59]\tLoss: 0.9712\tLR: 0.010000\n",
            "Training Epoch: 18 [10/59]\tLoss: 1.0433\tLR: 0.010000\n",
            "Training Epoch: 18 [20/59]\tLoss: 0.9864\tLR: 0.010000\n",
            "Training Epoch: 18 [30/59]\tLoss: 0.9565\tLR: 0.010000\n",
            "Training Epoch: 18 [40/59]\tLoss: 0.9560\tLR: 0.010000\n",
            "Training Epoch: 18 [50/59]\tLoss: 0.9275\tLR: 0.010000\n",
            "Evaluating Network.....\n",
            "Test set: Epoch: 18, Average loss: 0.0009, Digit Accuracy: 0.9908, Sum Accuracy: 0.9563\n",
            "\n",
            "Training Epoch: 19 [0/59]\tLoss: 0.9788\tLR: 0.010000\n",
            "Training Epoch: 19 [10/59]\tLoss: 0.8501\tLR: 0.010000\n",
            "Training Epoch: 19 [20/59]\tLoss: 0.8521\tLR: 0.010000\n",
            "Training Epoch: 19 [30/59]\tLoss: 0.8473\tLR: 0.010000\n",
            "Training Epoch: 19 [40/59]\tLoss: 0.8943\tLR: 0.010000\n",
            "Training Epoch: 19 [50/59]\tLoss: 0.8304\tLR: 0.010000\n",
            "Evaluating Network.....\n",
            "Test set: Epoch: 19, Average loss: 0.0008, Digit Accuracy: 0.9924, Sum Accuracy: 0.9604\n",
            "\n",
            "Training Epoch: 20 [0/59]\tLoss: 0.8368\tLR: 0.010000\n",
            "Training Epoch: 20 [10/59]\tLoss: 0.8270\tLR: 0.010000\n",
            "Training Epoch: 20 [20/59]\tLoss: 0.8662\tLR: 0.010000\n",
            "Training Epoch: 20 [30/59]\tLoss: 0.8038\tLR: 0.010000\n",
            "Training Epoch: 20 [40/59]\tLoss: 0.8204\tLR: 0.010000\n",
            "Training Epoch: 20 [50/59]\tLoss: 0.7875\tLR: 0.010000\n",
            "Evaluating Network.....\n",
            "Test set: Epoch: 20, Average loss: 0.0007, Digit Accuracy: 0.9918, Sum Accuracy: 0.9624\n",
            "\n"
          ]
        }
      ]
    },
    {
      "cell_type": "markdown",
      "metadata": {
        "id": "n0C_TWVY0OQe"
      },
      "source": [
        "# **Test data transformation**"
      ]
    },
    {
      "cell_type": "code",
      "metadata": {
        "id": "HaMUh6GqemgW"
      },
      "source": [
        "transform_test = transforms.Compose([\n",
        "    transforms.Resize((28, 28)),\n",
        "    transforms.ToTensor(),\n",
        "    transforms.Normalize((0.1307),(0.3081))\n",
        "])\n",
        "mnist_test = torchvision.datasets.MNIST(\n",
        "    root='./mnist_data', download=True, transform=transform_test, train=False)\n",
        "mnist_test = MNISTWrapper(mnist_test, transform_test)"
      ],
      "execution_count": 11,
      "outputs": []
    },
    {
      "cell_type": "markdown",
      "metadata": {
        "id": "QqhpnFf_0SIB"
      },
      "source": [
        "#**Let's test the model for digit and sum prediction**"
      ]
    },
    {
      "cell_type": "code",
      "metadata": {
        "colab": {
          "base_uri": "https://localhost:8080/",
          "height": 364
        },
        "id": "pLYE5zX_emgX",
        "outputId": "56129785-086a-49c4-db17-ad011d899e9f"
      },
      "source": [
        "image, label, rand_number, actual_sum = mnist_test[1000]\n",
        "print(f\"Inputs:\\nRandom number: {rand_number}\")\n",
        "plt.matshow(image.numpy()[0])\n",
        "pred_digit, pred_sum = net(image.unsqueeze(0).to(f\"cuda:{devices[0]}\"), torch.LongTensor([rand_number]).to(f\"cuda:{devices[0]}\"))\n",
        "_, pred_digit = pred_digit.max(1)\n",
        "_, pred_sum = pred_sum.max(1)\n",
        "print(f\"Outputs:\\nPredicted digit: {pred_digit.item()}\\nPredicted sum: {pred_sum.item()}\")\n"
      ],
      "execution_count": 12,
      "outputs": [
        {
          "output_type": "stream",
          "name": "stdout",
          "text": [
            "Inputs:\n",
            "Random number: 3\n",
            "Outputs:\n",
            "Predicted digit: 9\n",
            "Predicted sum: 12\n"
          ]
        },
        {
          "output_type": "display_data",
          "data": {
            "image/png": "[encoded data removed]",
            "text/plain": [
              "<Figure size 288x288 with 1 Axes>"
            ]
          },
          "metadata": {
            "needs_background": "light"
          }
        }
      ]
    },
    {
      "cell_type": "code",
      "metadata": {
        "colab": {
          "base_uri": "https://localhost:8080/",
          "height": 364
        },
        "id": "D99QPL9MemgX",
        "outputId": "1c35033e-254c-4e54-bd19-f7c56fa72129"
      },
      "source": [
        "#get random data\n",
        "image, label, rand_number, actual_sum = mnist_test[2000]\n",
        "print(f\"Inputs:\\nRandom number: {rand_number}\")\n",
        "plt.matshow(image.numpy()[0])\n",
        "#unsqueeze input and copy data to cuda \n",
        "pred_digit, pred_sum = net(image.unsqueeze(0).to(f\"cuda:{devices[0]}\"), torch.LongTensor([rand_number]).to(f\"cuda:{devices[0]}\"))\n",
        "_, pred_digit = pred_digit.max(1)\n",
        "_, pred_sum = pred_sum.max(1)\n",
        "print(f\"Outputs:\\nPredicted digit: {pred_digit.item()}\\nPredicted sum: {pred_sum.item()}\")"
      ],
      "execution_count": 13,
      "outputs": [
        {
          "output_type": "stream",
          "name": "stdout",
          "text": [
            "Inputs:\n",
            "Random number: 8\n",
            "Outputs:\n",
            "Predicted digit: 6\n",
            "Predicted sum: 14\n"
          ]
        },
        {
          "output_type": "display_data",
          "data": {
            "image/png": "[encoded data removed]",
            "text/plain": [
              "<Figure size 288x288 with 1 Axes>"
            ]
          },
          "metadata": {
            "needs_background": "light"
          }
        }
      ]
    },
    {
      "cell_type": "code",
      "metadata": {
        "colab": {
          "base_uri": "https://localhost:8080/",
          "height": 364
        },
        "id": "w21N6kxeemgY",
        "outputId": "c6e28a5d-d76e-465c-f894-e8bd94bb18c3"
      },
      "source": [
        "image, label, rand_number, actual_sum = mnist_test[3000]\n",
        "print(f\"Inputs:\\nRandom number: {rand_number}\")\n",
        "plt.matshow(image.numpy()[0])\n",
        "pred_digit, pred_sum = net(image.unsqueeze(0).to(f\"cuda:{devices[0]}\"), torch.LongTensor([rand_number]).to(f\"cuda:{devices[0]}\"))\n",
        "_, pred_digit = pred_digit.max(1)\n",
        "_, pred_sum = pred_sum.max(1)\n",
        "print(f\"Outputs:\\nPredicted digit: {pred_digit.item()}\\nPredicted sum: {pred_sum.item()}\")"
      ],
      "execution_count": 14,
      "outputs": [
        {
          "output_type": "stream",
          "name": "stdout",
          "text": [
            "Inputs:\n",
            "Random number: 7\n",
            "Outputs:\n",
            "Predicted digit: 6\n",
            "Predicted sum: 13\n"
          ]
        },
        {
          "output_type": "display_data",
          "data": {
            "image/png": "[encoded data removed]",
            "text/plain": [
              "<Figure size 288x288 with 1 Axes>"
            ]
          },
          "metadata": {
            "needs_background": "light"
          }
        }
      ]
    },
    {
      "cell_type": "code",
      "metadata": {
        "id": "VGSjP9c-emgY"
      },
      "source": [
        ""
      ],
      "execution_count": 14,
      "outputs": []
    }
  ]
}